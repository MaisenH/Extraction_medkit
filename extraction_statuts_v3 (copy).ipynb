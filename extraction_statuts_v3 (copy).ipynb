{
 "cells": [
  {
   "cell_type": "code",
   "execution_count": 1,
   "id": "446b3136",
   "metadata": {},
   "outputs": [],
   "source": [
    "from pathlib import Path\n",
    "from medkit.core.text import TextDocument\n",
    "from medkit.text.segmentation import SentenceTokenizer\n",
    "from medkit.text.ner import RegexpMatcher, RegexpMatcherRule , RegexpMatcherNormalization\n",
    "from medkit.text.context import NegationDetector, NegationDetectorRule\n",
    "from medkit.text.segmentation import SyntagmaTokenizer\n",
    "from medkit.text.context import FamilyDetector\n",
    "from unidecode import unidecode\n",
    "import os\n",
    "import re\n",
    "import pandas as pd\n",
    "import random\n",
    "pd.set_option('display.max_colwidth', None)"
   ]
  },
  {
   "cell_type": "code",
   "execution_count": 2,
   "id": "031f9fa6",
   "metadata": {},
   "outputs": [],
   "source": [
    "def preprocessing(text):\n",
    "    \n",
    "    # On convertit les caractères spéciaux spécifiques avant la conversion en ASCII\n",
    "    text = re.sub(r'n°', 'numero', text)  # Remplace \"n°\" par \"numero\"\n",
    "    text = re.sub(r'/d°', 'deg', text)  # Remplace \"/d°\" par \"deg\"\n",
    "\n",
    "    # On convertit le texte en ASCII\n",
    "    ascii_text = unidecode(text)  # Convertit les caractères Unicode en ASCII\n",
    "\n",
    "    # On normalise les espaces en remplaçant les espaces multiples par un seul espace\n",
    "    ascii_text = re.sub(r'\\s+', ' ', ascii_text)  # Remplace plusieurs espaces par un seul espace\n",
    "    return ascii_text"
   ]
  },
  {
   "cell_type": "code",
   "execution_count": 3,
   "id": "e672441b",
   "metadata": {},
   "outputs": [],
   "source": [
    "def statut_extraction_tabac(doc):\n",
    "    statut = \"UNKNOWN\"\n",
    "    n_oui = 0\n",
    "    n_non = 0\n",
    "    value_is_negated = False\n",
    "    value_other_detected = False\n",
    "    count=0 # Indice qui permet de recuperer ce qui nous interesse\n",
    "    for ann in doc.anns:\n",
    "        for attr in ann.attrs:\n",
    "            if ann.label == \"tabagisme\":\n",
    "                if count==3:\n",
    "                    count=1\n",
    "                else:\n",
    "                    count+=1\n",
    "                    if attr.label == \"is_negated\":\n",
    "                        value_is_negated = attr.value\n",
    "                    elif attr.label == \"other_detected\":\n",
    "                        value_other_detected = attr.value\n",
    "\n",
    "                    if count ==2:\n",
    "                        if value_other_detected:\n",
    "                            continue\n",
    "                        else:\n",
    "                            if value_is_negated:\n",
    "                                n_non += 1\n",
    "                            else:\n",
    "                                n_oui += 1\n",
    "\n",
    "        if n_non > 0 and n_oui > 0:\n",
    "            statut = \"FUMEUR\"\n",
    "        elif n_non > 0:\n",
    "            statut = \"NON-FUMEUR\"\n",
    "        elif n_oui > 0:\n",
    "            statut = \"FUMEUR\"\n",
    "    return statut"
   ]
  },
  {
   "cell_type": "code",
   "execution_count": 4,
   "id": "7d66f2d6",
   "metadata": {},
   "outputs": [],
   "source": [
    "def statut_extraction_alcool(doc):\n",
    "    statut = \"UNKNOWN\"\n",
    "    n_oui = 0\n",
    "    n_non = 0\n",
    "    value_is_negated = False\n",
    "    value_other_detected = False\n",
    "    count=0 # Indice qui permet de recuperer ce qui nous interesse\n",
    "    for ann in doc.anns:\n",
    "        for attr in ann.attrs:\n",
    "            if ann.label == \"tabagisme\":\n",
    "                if count==3:\n",
    "                    count=1\n",
    "                else:\n",
    "                    count+=1\n",
    "                    if attr.label == \"is_negated\":\n",
    "                        value_is_negated = attr.value\n",
    "                    elif attr.label == \"other_detected\":\n",
    "                        value_other_detected = attr.value\n",
    "\n",
    "                    if count ==2:\n",
    "                        if value_other_detected:\n",
    "                            continue\n",
    "                        else:\n",
    "                            if value_is_negated:\n",
    "                                n_non += 1\n",
    "                            else:\n",
    "                                n_oui += 1\n",
    "\n",
    "        if n_non > 0 and n_oui > 0:\n",
    "            statut = \"ALCOOLIQUE\"\n",
    "        elif n_non > 0:\n",
    "            statut = \"NON-ALCOOLIQUE\"\n",
    "        elif n_oui > 0:\n",
    "            statut = \"ALCOOLIQUE\"\n",
    "    return statut"
   ]
  },
  {
   "cell_type": "code",
   "execution_count": 5,
   "id": "b011ccc0",
   "metadata": {},
   "outputs": [],
   "source": [
    "def statut_extraction_situation_familiale(doc):\n",
    "    ## Initialisation\n",
    "    value_is_negated=False\n",
    "    value_other_detected=False\n",
    "    ## Initialisation\n",
    "    situation = \"UNKNOWN\"\n",
    "    count = 0  # Variable de compteur pour suivre le nombre d'occurrences\n",
    "\n",
    "    # On parcourt le dico pour analyser chaque annotation trouvée\n",
    "    for ann in doc.anns:\n",
    "        if ann.label == \"situation\":\n",
    "            for attr in ann.attrs:\n",
    "                if count==3:\n",
    "                    count=1\n",
    "                else:\n",
    "                    count+=1\n",
    "                    if attr.label == \"is_negated\":\n",
    "                        value_is_negated = attr.value\n",
    "                    elif attr.label == \"other_detected\":\n",
    "                        value_other_detected = attr.value\n",
    "\n",
    "                # Si l'entité trouvée ne concerne pas le patient (other_detected == True),\n",
    "                # on passe à l'annotation suivante\n",
    "                if value_other_detected == True:\n",
    "                    continue\n",
    "                else:\n",
    "                    if count == 2:  # Sortir de la boucle externe une fois que la troisième valeur est récupérée\n",
    "                        situation = ann.text.lower()\n",
    "                        ## NORMALISATION: Seul, pas seul ou inconnu\n",
    "                        if re.search(r\"\\bmarie[e]?\\b\", situation):\n",
    "                            situation = \"PAS SEUL\"\n",
    "                        elif re.search(r\"\\bcelibataire\\b\", situation):\n",
    "                            situation = \"SEUL\"\n",
    "                        elif re.search(r\"\\bdivorce[e]?\\b\", situation):\n",
    "                            situation = \"SEUL\"\n",
    "                        elif re.search(r\"\\bveuf\\b\", situation):\n",
    "                            situation = \"SEUL\"\n",
    "                        elif re.search(r\"\\bveuve\\b\", situation):\n",
    "                            situation = \"SEUL\"\n",
    "                        elif re.search(r\"\\bpacse[e][s]?\\b\", situation):\n",
    "                            situation = \"PAS SEUL\"\n",
    "                        elif re.search(r\"\\bconcubinage\\b\", situation):\n",
    "                            situation = \"PAS SEUL\"\n",
    "                        elif re.search(r\"\\b(vit|habite)\\sseul(e)?\\b\", situation):\n",
    "                            situation = \"SEUL\"\n",
    "                        # Si il y a une négation\n",
    "                        if value_is_negated == True:\n",
    "                            # On inverse statut_marital\n",
    "                            if situation == \"SEUL\":\n",
    "                                situation = \"PAS SEUL\"\n",
    "                            else:\n",
    "                                situation = \"SEUL\"\n",
    "\n",
    "    return situation  "
   ]
  },
  {
   "cell_type": "code",
   "execution_count": 6,
   "id": "8160d685",
   "metadata": {},
   "outputs": [],
   "source": [
    "def clinical_case_recovery(output_folder,option_melange):\n",
    "    # On récupère tous les fichiers texte dans le dossier\n",
    "    txt_files = [f for f in os.listdir(output_folder) if f.endswith('.txt')]\n",
    "    \n",
    "    if option_melange == True:\n",
    "        # On mélange les fichiers de manière aléatoire\n",
    "        random.shuffle(txt_files)\n",
    "    else:\n",
    "        # On trie les fichiers par ordre alphabétique\n",
    "        txt_files = sorted(txt_files)\n",
    "\n",
    "    textes = {}  # dictionnaire de tous les cas cliniques\n",
    "\n",
    "    # On ouvre et on extrait les textes dans textes\n",
    "    for i in range(len(txt_files)):\n",
    "        file_path = os.path.join(output_folder, txt_files[i])\n",
    "        with open(file_path, 'r') as f:\n",
    "            text = f.read()\n",
    "        textes[txt_files[i]] = text\n",
    "    return textes"
   ]
  },
  {
   "cell_type": "markdown",
   "id": "690de6d2",
   "metadata": {},
   "source": [
    "## LES NEG DETECTOR"
   ]
  },
  {
   "cell_type": "code",
   "execution_count": 7,
   "id": "c6beaaa3",
   "metadata": {
    "scrolled": true
   },
   "outputs": [],
   "source": [
    "\n",
    "def neg_detector_tabac():\n",
    "\n",
    "    ### QUELQUES REGEX NEGATION\n",
    "\n",
    "    neg_rules = [       \n",
    "\n",
    "    NegationDetectorRule(regexp=r\"\\bne\\s*(semble|consomme|prend|fume)\\s*pas\"),\n",
    "    NegationDetectorRule(regexp=r\"jamais\"),\n",
    "    NegationDetectorRule(regexp=r\"\\bni\\b\"),\n",
    "    NegationDetectorRule(regexp=r\"\\bnon\\s+\\b\"),\n",
    "    NegationDetectorRule(regexp=r\"Tabac\\s*[=:]?\\s*0\"),\n",
    "    NegationDetectorRule(regexp=r\"(pas|ni|ou)\\s+de\\s+(consommation\\s+de\\s+)?taba\"),\n",
    "    NegationDetectorRule(regexp=r\"pas\\s+d\\'intoxication\\s+tabagi\"),\n",
    "    NegationDetectorRule(regexp=r\"0 tabac\"),\n",
    "\n",
    "    ]\n",
    "    \n",
    "    neg_detector = NegationDetector(output_label=\"is_negated\", rules=neg_rules)\n",
    "    return neg_detector"
   ]
  },
  {
   "cell_type": "code",
   "execution_count": 8,
   "id": "d0673fbf",
   "metadata": {},
   "outputs": [],
   "source": [
    "def neg_detector_alcool():\n",
    "\n",
    "    ### QUELQUES REGEX NEGATION\n",
    "\n",
    "    neg_rules = [\n",
    "\n",
    "        NegationDetectorRule(regexp=r\"ne\\s*boit\\s*pas\"),\n",
    "        NegationDetectorRule(regexp=r\"\\bne/s*consomme/s*pas\\b\"),\n",
    "        NegationDetectorRule(regexp=r\"\\bni\\b\"),\n",
    "        NegationDetectorRule(regexp=r\"\\bpas\\b\"),\n",
    "        NegationDetectorRule(regexp=r\"\\becarte\\b\"),\n",
    "        NegationDetectorRule(regexp=r\"\\bnulle|negative\\b\"),\n",
    "        NegationDetectorRule(regexp=r\"rarement|occasion\"),\n",
    "\n",
    "    ]\n",
    "    neg_detector = NegationDetector(output_label=\"is_negated\", rules=neg_rules)\n",
    "    return neg_detector"
   ]
  },
  {
   "cell_type": "code",
   "execution_count": 9,
   "id": "c5798b0d",
   "metadata": {},
   "outputs": [],
   "source": [
    "def neg_detector_situation_familiale():\n",
    "\n",
    "### QUELQUES REGEX NEGATION\n",
    "\n",
    "    neg_rules = [\n",
    "\n",
    "        NegationDetectorRule(regexp=r\"\\bn'est pas\\b\"),\n",
    "        NegationDetectorRule(regexp=r\"\\bne vit pas\\b\"),\n",
    "        NegationDetectorRule(regexp=r\"\\bn'habite pas\\b\"),\n",
    "        NegationDetectorRule(regexp=r\"\\bni\\b\"),\n",
    "    ]\n",
    "    neg_detector = NegationDetector(output_label=\"is_negated\", rules=neg_rules)\n",
    "    return neg_detector"
   ]
  },
  {
   "cell_type": "markdown",
   "id": "14bf441d",
   "metadata": {},
   "source": [
    "## REGEX"
   ]
  },
  {
   "cell_type": "code",
   "execution_count": 10,
   "id": "c151fb84",
   "metadata": {},
   "outputs": [],
   "source": [
    "regexp_rules_tabac = [\n",
    "    RegexpMatcherRule(regexp=r\"cigare(tte)?[s]?\\b\", label=\"tabagisme\", exclusion_regexp =\"en bout de cigare\"),\n",
    "    RegexpMatcherRule(regexp=r\"\\bfume\\b\", label=\"tabagisme\", exclusion_regexp = \"residu(s)?/s+de/s+fumee(s)?\"),\n",
    "    RegexpMatcherRule(regexp=r\"taba(c|gisme|gique)[s]?\", label=\"tabagisme\"),\n",
    "    RegexpMatcherRule(regexp=r\"fumeur|fumeuse\", label=\"tabagisme\"),\n",
    "    RegexpMatcherRule(regexp=r\"fumait\", label=\"tabagisme\"),\n",
    "    RegexpMatcherRule(regexp=r\"nicotine\", label=\"tabagisme\"),\n",
    "]\n",
    "regexp_rules_alcool = [\n",
    "    RegexpMatcherRule(regexp=r\"alcool\", label=\"alcool\", exclusion_regexp = \"acido/s*alcoolo|acido-alcoolo\"), \n",
    "    RegexpMatcherRule(regexp=r\"ethylisme|ethylique|ethylemie|ethylo\", label=\"alcool\"),\n",
    "    RegexpMatcherRule(regexp=r\"biere[s]?\", label=\"alcool\"),\n",
    "]\n",
    "\n",
    "regexp_rules_familial = [\n",
    "    RegexpMatcherRule(regexp=r\"\\bmarie[e]?\\b\", label=\"situation\"),\n",
    "    RegexpMatcherRule(regexp=r\"celibataire\", label=\"situation\"),\n",
    "    RegexpMatcherRule(regexp=r\"divorce[e]?\", label=\"situation\"),\n",
    "    RegexpMatcherRule(regexp=r\"veuf\", label=\"situation\"),\n",
    "    RegexpMatcherRule(regexp=r\"\\bveuve\\b\", label=\"situation\"),\n",
    "    RegexpMatcherRule(regexp=r\"\\bpacse[e][s]?\\b\", label=\"situation\"),\n",
    "    RegexpMatcherRule(regexp=r\"\\bconcubinage\\b\", label=\"situation\"),\n",
    "    RegexpMatcherRule(regexp=r\"\\b(vit|habite)\\sseul(e)?\\b\", label=\"situation\"),\n",
    "]"
   ]
  },
  {
   "cell_type": "markdown",
   "id": "ce3fa570",
   "metadata": {},
   "source": [
    "## EXTRACTION STATUTS"
   ]
  },
  {
   "cell_type": "code",
   "execution_count": 126,
   "id": "6b0a034c",
   "metadata": {},
   "outputs": [],
   "source": [
    "def extraction_finale(clinical_case_repo,option_melange):\n",
    "    # Listes pour stocker les données\n",
    "    data_tabac = []\n",
    "    data_alcool = []\n",
    "    data_situation = []\n",
    "    data = []\n",
    "    docs = []\n",
    "    # On charge les cas cliniques dans un dico {nom fichier: cas clinique}\n",
    "    clinical_cases_dico = clinical_case_recovery(clinical_case_repo,option_melange)\n",
    "\n",
    "    for fichier, clinical_case in clinical_cases_dico.items():\n",
    "        clinical_case = preprocessing(clinical_case) # prétraitement du texte\n",
    "        doc = TextDocument(text=clinical_case)\n",
    "\n",
    "        ## On sépare le texte en phrases\n",
    "        sent_tokenizer = SentenceTokenizer(\n",
    "            output_label=\"sentence\",\n",
    "            punct_chars=[\".\", \"?\", \"!\"],\n",
    "        )\n",
    "        sentences = sent_tokenizer.run([doc.raw_segment])\n",
    "\n",
    "        ## On sépare les phrases en syntagmas\n",
    "        synt_tokenizer = SyntagmaTokenizer(\n",
    "            output_label=\"sentence\",\n",
    "            separators=[r\"\\bmais\\b\", r\"\\bet\\b\"],\n",
    "        )\n",
    "        syntagmas = synt_tokenizer.run(sentences)\n",
    "\n",
    "        # Création de l'objet neg detector\n",
    "        neg_detector_tabac_obj = neg_detector_tabac()\n",
    "        neg_detector_alcool_obj = neg_detector_alcool()\n",
    "        neg_detector_statut_familial_obj = neg_detector_situation_familiale()\n",
    "\n",
    "        # On applique neg detector aux syntagmas\n",
    "        neg_detector_tabac_obj.run(syntagmas)\n",
    "        neg_detector_alcool_obj.run(syntagmas)\n",
    "        neg_detector_statut_familial_obj.run(syntagmas)\n",
    "\n",
    "        # On applique family detector aux syntagmas\n",
    "        family_detector = FamilyDetector(output_label='other_detected')\n",
    "        family_detector.run(syntagmas)\n",
    "\n",
    "        # CREATION OF ENTITIES\n",
    "        regexp_matcher_tabac = RegexpMatcher(rules=regexp_rules_tabac, attrs_to_copy=[\"is_negated\", \"other_detected\"])\n",
    "        regexp_matcher_alcool = RegexpMatcher(rules=regexp_rules_alcool, attrs_to_copy=[\"is_negated\", \"other_detected\"])\n",
    "        regexp_matcher_familial = RegexpMatcher(rules=regexp_rules_familial, attrs_to_copy=[\"is_negated\", \"other_detected\"])\n",
    "\n",
    "        entities_tabac = regexp_matcher_tabac.run(syntagmas)\n",
    "        entities_alcool = regexp_matcher_alcool.run(syntagmas)\n",
    "        entities_familial = regexp_matcher_familial.run(syntagmas)\n",
    "\n",
    "        for entity in entities_tabac:\n",
    "            doc.anns.add(entity)\n",
    "\n",
    "        for entity in entities_alcool:\n",
    "            doc.anns.add(entity)\n",
    "\n",
    "        for entity in entities_familial:\n",
    "            doc.anns.add(entity)\n",
    "\n",
    "        \n",
    "        docs.append(doc)\n",
    "               \n",
    "        tabagisme = statut_extraction_tabac(doc)\n",
    "        alcool = statut_extraction_alcool(doc)\n",
    "        situation = statut_extraction_situation_familiale(doc)\n",
    "\n",
    "        # Remplissage de data\n",
    "        data_tabac.append([fichier, clinical_case, tabagisme])\n",
    "        data_alcool.append([fichier, clinical_case, alcool])\n",
    "        data_situation.append([fichier, clinical_case, situation])\n",
    "        data.append([fichier, clinical_case, tabagisme,alcool,situation])\n",
    "\n",
    "    df_tabac = pd.DataFrame(data_tabac, columns=[\"nom fichier\", \"cas clinique\", \"tabagisme\"])\n",
    "    df_alcool = pd.DataFrame(data_alcool, columns=[\"nom fichier\", \"cas clinique\", \"alcool\"])\n",
    "    df_situation = pd.DataFrame(data_situation, columns=[\"nom fichier\", \"cas clinique\", \"situation\"])\n",
    "    df = pd.DataFrame(data, columns=[\"nom fichier\", \"cas clinique\", \"tabagisme\", \"alcool\", \"situation\"])\n",
    "    \n",
    "    return df,docs"
   ]
  },
  {
   "cell_type": "markdown",
   "id": "c156674f",
   "metadata": {},
   "source": [
    "## PREPARATION ANNOTATION TABAC"
   ]
  },
  {
   "cell_type": "markdown",
   "id": "1fa513b0",
   "metadata": {},
   "source": [
    "## On fait tourner le code sur ces fichiers uniquement"
   ]
  },
  {
   "cell_type": "code",
   "execution_count": 129,
   "id": "d9a98b10",
   "metadata": {},
   "outputs": [
    {
     "name": "stdout",
     "output_type": "stream",
     "text": [
      "fin\n"
     ]
    }
   ],
   "source": [
    "df,docs_medkit = extraction_finale(\"51_fichiers_annotation_tabac\",option_melange=False)\n",
    "print(\"fin\")"
   ]
  },
  {
   "cell_type": "code",
   "execution_count": 132,
   "id": "e5b99c69",
   "metadata": {},
   "outputs": [
    {
     "data": {
      "text/plain": [
       "tabagisme\n",
       "FUMEUR        24\n",
       "UNKNOWN       17\n",
       "NON-FUMEUR    10\n",
       "Name: count, dtype: int64"
      ]
     },
     "execution_count": 132,
     "metadata": {},
     "output_type": "execute_result"
    }
   ],
   "source": [
    "df['tabagisme'].value_counts()"
   ]
  },
  {
   "cell_type": "code",
   "execution_count": 80,
   "id": "3d23ab68",
   "metadata": {},
   "outputs": [
    {
     "name": "stdout",
     "output_type": "stream",
     "text": [
      "{'overall_precision': 0.5, 'overall_recall': 0.5, 'overall_f1-score': 0.5, 'overall_support': 2, 'overall_acc': 0.95, 'tabagisme_precision': 0.5, 'tabagisme_recall': 0.5, 'tabagisme_f1-score': 0.5, 'tabagisme_support': 2}\n"
     ]
    }
   ],
   "source": [
    "## TEST POUR COMPRENDRE COMMENT L EVALUATION FONCTIONNE\n",
    "from medkit.core.text import TextDocument, Entity, Span\n",
    "from medkit.text.metrics.ner import SeqEvalEvaluator\n",
    "\n",
    "document = TextDocument(\"Il fume la cigarette\", \n",
    "                        anns = [Entity(label=\"tabagisme\",spans=[Span(4,8)],text=\"fumee\"),\n",
    "                                Entity(label=\"tabagisme\",spans=[Span(12,20)],text=\"cigarette\")])\n",
    "\n",
    "pred_ents = [Entity(label=\"tabagisme\",spans=[Span(12,20)],text=\"cigarette\"),\n",
    "            Entity(label=\"tabagisme\",spans=[Span(4,7)],text=\"fume\")]\n",
    "\n",
    "# define a evaluator using `iob2` as tagging scheme\n",
    "evaluator = SeqEvalEvaluator(tagging_scheme=\"iob2\")\n",
    "metrics = evaluator.compute(documents=[document], predicted_entities=[pred_ents])\n",
    "print(metrics)"
   ]
  },
  {
   "cell_type": "code",
   "execution_count": 134,
   "id": "da7f1d8f",
   "metadata": {},
   "outputs": [
    {
     "name": "stdout",
     "output_type": "stream",
     "text": [
      "fin\n"
     ]
    }
   ],
   "source": [
    "## PRETRAITEMENT DES FICHIERS BRAT\n",
    "import os\n",
    "\n",
    "# Chemin du dossier contenant les fichiers .txt\n",
    "#dossier = \"/home/mhassani/Documents/Stage/env/brat-master/data/tabac_test\"\n",
    "\n",
    "# Parcours des fichiers .txt dans le dossier\n",
    "for filename in os.listdir(dossier):\n",
    "    if filename.endswith(\".txt\"):\n",
    "        # Chemin complet du fichier\n",
    "        fichier = os.path.join(dossier, filename)\n",
    "        \n",
    "        # Lecture du contenu du fichier\n",
    "        with open(fichier, \"r\") as file:\n",
    "            contenu = file.read()\n",
    "        \n",
    "        # Application de la fonction de prétraitement\n",
    "        contenu_preprocessed = preprocessing(contenu)\n",
    "        \n",
    "        # Écriture du contenu prétraité dans le fichier\n",
    "        with open(fichier, \"w\") as file:\n",
    "            file.write(contenu_preprocessed)\n",
    "print(\"fin\")"
   ]
  },
  {
   "cell_type": "markdown",
   "id": "de818b05",
   "metadata": {},
   "source": [
    "## EVALUATION: COMPARAISON ENTRE ANNOTATION BRAT ET MEDKIT"
   ]
  },
  {
   "cell_type": "code",
   "execution_count": 135,
   "id": "96e1ed92",
   "metadata": {},
   "outputs": [
    {
     "data": {
      "text/plain": [
       "51"
      ]
     },
     "execution_count": 135,
     "metadata": {},
     "output_type": "execute_result"
    }
   ],
   "source": [
    "# On récupère les annotations brat\n",
    "\n",
    "from medkit.io.brat import BratInputConverter\n",
    "\n",
    "# Define Input Converter \n",
    "brat_converter = BratInputConverter()\n",
    "\n",
    "path= \"/home/mhassani/Documents/Stage/env/brat-master/data/tabac_test\"\n",
    "\n",
    "# Load brat into a list of documents\n",
    "docs_brat = brat_converter.load(dir_path = path)\n",
    "len(docs_brat)"
   ]
  },
  {
   "cell_type": "code",
   "execution_count": 136,
   "id": "eedea519",
   "metadata": {},
   "outputs": [],
   "source": [
    "from medkit.core.text import Span\n",
    "from medkit.core.text import Entity\n",
    "\n",
    "def convert_to_pred_ents(docs_medkit):\n",
    "    pred_ents = []\n",
    "    \n",
    "    for doc in docs_medkit:\n",
    "        entities = []\n",
    "        for entity in doc.anns:\n",
    "            entity_spans = [Span(start=span.start, end=span.end) for span in entity.spans]\n",
    "            entity_obj = Entity(label=entity.label, spans=entity_spans, text=entity.text)\n",
    "            entities.append(entity_obj)\n",
    "        \n",
    "        pred_ents.append(entities)\n",
    "    \n",
    "    return pred_ents"
   ]
  },
  {
   "cell_type": "code",
   "execution_count": 137,
   "id": "c8e3a4ee",
   "metadata": {},
   "outputs": [],
   "source": [
    "pred_ents = convert_to_pred_ents(docs_medkit)\n",
    "pred = convert_to_pred_ents(docs_brat)"
   ]
  },
  {
   "cell_type": "code",
   "execution_count": 138,
   "id": "f1284ae7",
   "metadata": {},
   "outputs": [],
   "source": [
    "from medkit.core.text import TextDocument, Entity, Span\n",
    "from medkit.text.metrics.ner import SeqEvalEvaluator\n",
    "\n",
    "# define a evaluator using `iob2` as tagging scheme\n",
    "evaluator = SeqEvalEvaluator(tagging_scheme=\"iob2\")\n",
    "metrics = evaluator.compute(documents=docs_brat, predicted_entities=pred_ents)"
   ]
  },
  {
   "cell_type": "code",
   "execution_count": 140,
   "id": "f1142274",
   "metadata": {},
   "outputs": [
    {
     "name": "stdout",
     "output_type": "stream",
     "text": [
      "overall_precision: 0.9344262295081968\n",
      "overall_recall: 1.0\n",
      "overall_f1-score: 0.9661016949152543\n",
      "overall_support: 57\n",
      "overall_acc: 0.9998264757900357\n",
      "alcool_precision: 0.8636363636363636\n",
      "alcool_recall: 1.0\n",
      "alcool_f1-score: 0.9268292682926829\n",
      "alcool_support: 19\n",
      "situation_precision: 0.5\n",
      "situation_recall: 1.0\n",
      "situation_f1-score: 0.6666666666666666\n",
      "situation_support: 1\n",
      "tabagisme_precision: 1.0\n",
      "tabagisme_recall: 1.0\n",
      "tabagisme_f1-score: 1.0\n",
      "tabagisme_support: 37\n"
     ]
    }
   ],
   "source": [
    "for metric, value in metrics.items():\n",
    "    print(f\"{metric}: {value}\")"
   ]
  },
  {
   "cell_type": "code",
   "execution_count": 139,
   "id": "714f1c5c",
   "metadata": {
    "scrolled": false
   },
   "outputs": [
    {
     "name": "stdout",
     "output_type": "stream",
     "text": [
      "taille texte brat:3476\n",
      "taille texte medkit:3476\n",
      "taille texte brat après prétraitement:3476\n",
      "[Span(start=375, end=381)]\n",
      "[Span(start=413, end=423)]\n",
      "fumait\n",
      "cigarettes\n",
      "/home/mhassani/Documents/Stage/env/brat-master/data/tabac_test/filepdf-193-cas.txt\n",
      "\n",
      "\n",
      "\n",
      "taille texte brat:3476\n",
      "taille texte medkit:3476\n",
      "taille texte brat après prétraitement:3476\n",
      "[Span(start=413, end=423)]\n",
      "[Span(start=375, end=381)]\n",
      "cigarettes\n",
      "fumait\n",
      "/home/mhassani/Documents/Stage/env/brat-master/data/tabac_test/filepdf-193-cas.txt\n",
      "\n",
      "\n",
      "\n",
      "taille texte brat:3162\n",
      "taille texte medkit:3162\n",
      "taille texte brat après prétraitement:3162\n",
      "[Span(start=22, end=28)]\n",
      "[Span(start=140, end=146)]\n",
      "ethylo\n",
      "alcool\n",
      "/home/mhassani/Documents/Stage/env/brat-master/data/tabac_test/filepdf-474-cas.txt\n",
      "\n",
      "\n",
      "\n",
      "taille texte brat:3162\n",
      "taille texte medkit:3162\n",
      "taille texte brat après prétraitement:3162\n",
      "[Span(start=140, end=146)]\n",
      "[Span(start=22, end=28)]\n",
      "alcool\n",
      "ethylo\n",
      "/home/mhassani/Documents/Stage/env/brat-master/data/tabac_test/filepdf-474-cas.txt\n",
      "\n",
      "\n",
      "\n"
     ]
    }
   ],
   "source": [
    "from medkit.core.text import TextDocument, Entity, Span\n",
    "count=0\n",
    "for gold_doc, predicted_doc in zip(docs_brat, docs_medkit):\n",
    "    gold_entities = gold_doc.anns\n",
    "    predicted_entities = predicted_doc.anns\n",
    "    for gold_entity, predicted_entity in zip(gold_entities, predicted_entities):\n",
    "        if gold_entity != predicted_entity:\n",
    "            count+=1\n",
    "            if gold_entity.spans!=predicted_entity.spans:\n",
    "                test = preprocessing(gold_doc.text)\n",
    "                print(f\"taille texte brat:{len(gold_doc.text)}\")\n",
    "                print(f\"taille texte medkit:{len(predicted_doc.text)}\")\n",
    "                print(f\"taille texte brat après prétraitement:{len(test)}\")\n",
    "                print(gold_entity.spans)\n",
    "                print(predicted_entity.spans)\n",
    "                print(gold_entity.text)\n",
    "                print(predicted_entity.text)\n",
    "            #if gold_entity.text!=predicted_entity.text:\n",
    "                print(gold_doc.metadata[\"path_to_text\"])\n",
    "                print(\"\\n\\n\")"
   ]
  },
  {
   "cell_type": "code",
   "execution_count": null,
   "id": "67230aea",
   "metadata": {},
   "outputs": [],
   "source": [
    "preprocessing(text):\n"
   ]
  },
  {
   "cell_type": "code",
   "execution_count": 159,
   "id": "d555e303",
   "metadata": {
    "scrolled": false
   },
   "outputs": [],
   "source": [
    "from medkit.core.text import TextDocument, Entity, Span\n",
    "is_negated_medkit = False\n",
    "is_negated_brat = False\n",
    "\n",
    "# Compare the entities in the documents\n",
    "for gold_doc, predicted_doc in zip(docs_brat, docs_medkit):\n",
    "    gold_entities = gold_doc.anns\n",
    "    predicted_entities = predicted_doc.anns\n",
    "\n",
    "    for gold_entity, predicted_entity in zip(gold_entities, predicted_entities):\n",
    "        if gold_entity != predicted_entity:\n",
    "            i+=1\n",
    "            \"\"\"\n",
    "            print(gold_entity.spans)\n",
    "            print(predicted_entity.spans)\n",
    "            print(\"\\n\")\n",
    "            print(gold_entity.text)\n",
    "            print(predicted_entity.text)\n",
    "            print(\"\\n\")\n",
    "            print(gold_entity)\n",
    "            print(predicted_entity)\n",
    "            #print(gold_doc)\n",
    "            print(\"\\n\")\n",
    "            \"\"\"\n",
    "            \n",
    "            for attr_medkit, attr_gold in zip(predicted_entity.attrs, gold_entity.attrs):\n",
    "                if predicted_entity.label == \"tabagisme\":\n",
    "                    if attr_medkit.metadata == {'rule_id': 2}:\n",
    "                        is_negated_medkit = attr.value\n",
    "                    if attr_gold.label == \"is_negated\":\n",
    "                        is_negated_brat = attr_gold.value\n",
    "\n",
    "            #print(\"ICI\")\n",
    "            if is_negated_brat == None:\n",
    "                pass\n",
    "                #is_negated_brat=False\n",
    "            else:\n",
    "                print(\"OUI\")\n",
    "                print(is_negated_brat)\n",
    "                print(gold_doc)\n",
    "            #print(is_negated_medkit)\n",
    "            #print(is_negated_brat)\n"
   ]
  },
  {
   "cell_type": "code",
   "execution_count": 110,
   "id": "35ee00e8",
   "metadata": {},
   "outputs": [
    {
     "name": "stdout",
     "output_type": "stream",
     "text": [
      "overall_precision: 0.6721311475409836\n",
      "overall_recall: 0.7192982456140351\n",
      "overall_f1-score: 0.6949152542372881\n",
      "overall_support: 57\n",
      "overall_acc: 0.9994201468961197\n",
      "alcool_precision: 0.5454545454545454\n",
      "alcool_recall: 0.631578947368421\n",
      "alcool_f1-score: 0.5853658536585366\n",
      "alcool_support: 19\n",
      "situation_precision: 0.5\n",
      "situation_recall: 1.0\n",
      "situation_f1-score: 0.6666666666666666\n",
      "situation_support: 1\n",
      "tabagisme_precision: 0.7567567567567568\n",
      "tabagisme_recall: 0.7567567567567568\n",
      "tabagisme_f1-score: 0.7567567567567567\n",
      "tabagisme_support: 37\n"
     ]
    }
   ],
   "source": [
    "for metric, value in metrics.items():\n",
    "    print(f\"{metric}: {value}\")"
   ]
  },
  {
   "cell_type": "code",
   "execution_count": 35,
   "id": "4c112500",
   "metadata": {},
   "outputs": [
    {
     "name": "stdout",
     "output_type": "stream",
     "text": [
      "overall_precision: 0.6557377049180327\n",
      "overall_recall: 0.7142857142857143\n",
      "overall_f1-score: 0.6837606837606838\n",
      "overall_support: 56\n",
      "overall_acc: 0.9993801570268865\n",
      "alcool_precision: 0.5\n",
      "alcool_recall: 0.6111111111111112\n",
      "alcool_f1-score: 0.55\n",
      "alcool_support: 18\n",
      "situation_precision: 0.5\n",
      "situation_recall: 1.0\n",
      "situation_f1-score: 0.6666666666666666\n",
      "situation_support: 1\n",
      "tabagisme_precision: 0.7567567567567568\n",
      "tabagisme_recall: 0.7567567567567568\n",
      "tabagisme_f1-score: 0.7567567567567567\n",
      "tabagisme_support: 37\n"
     ]
    }
   ],
   "source": [
    "for metric, value in metrics.items():\n",
    "    print(f\"{metric}: {value}\")"
   ]
  },
  {
   "cell_type": "code",
   "execution_count": 19,
   "id": "40d6cdb8",
   "metadata": {},
   "outputs": [
    {
     "name": "stdout",
     "output_type": "stream",
     "text": [
      "overall_precision: 0.6\n",
      "overall_recall: 0.6428571428571429\n",
      "overall_f1-score: 0.6206896551724138\n",
      "overall_support: 56\n",
      "overall_acc: 0.9992468574627761\n",
      "alcool_precision: 0.3333333333333333\n",
      "alcool_recall: 0.3888888888888889\n",
      "alcool_f1-score: 0.358974358974359\n",
      "alcool_support: 18\n",
      "situation_precision: 0.5\n",
      "situation_recall: 1.0\n",
      "situation_f1-score: 0.6666666666666666\n",
      "situation_support: 1\n",
      "tabagisme_precision: 0.7567567567567568\n",
      "tabagisme_recall: 0.7567567567567568\n",
      "tabagisme_f1-score: 0.7567567567567567\n",
      "tabagisme_support: 37\n"
     ]
    }
   ],
   "source": [
    "for metric, value in metrics.items():\n",
    "    print(f\"{metric}: {value}\")"
   ]
  },
  {
   "cell_type": "code",
   "execution_count": 67,
   "id": "d0ebbc99",
   "metadata": {},
   "outputs": [
    {
     "name": "stdout",
     "output_type": "stream",
     "text": [
      "overall_precision: 0.7115384615384616\n",
      "overall_recall: 0.6607142857142857\n",
      "overall_f1-score: 0.6851851851851851\n",
      "overall_support: 56\n",
      "overall_acc: 0.9991802076807209\n",
      "alcool_precision: 0.6153846153846154\n",
      "alcool_recall: 0.4444444444444444\n",
      "alcool_f1-score: 0.5161290322580646\n",
      "alcool_support: 18\n",
      "situation_precision: 0.5\n",
      "situation_recall: 1.0\n",
      "situation_f1-score: 0.6666666666666666\n",
      "situation_support: 1\n",
      "tabagisme_precision: 0.7567567567567568\n",
      "tabagisme_recall: 0.7567567567567568\n",
      "tabagisme_f1-score: 0.7567567567567567\n",
      "tabagisme_support: 37\n"
     ]
    }
   ],
   "source": [
    "for metric, value in metrics.items():\n",
    "    print(f\"{metric}: {value}\")"
   ]
  },
  {
   "cell_type": "code",
   "execution_count": null,
   "id": "0bdd997e",
   "metadata": {},
   "outputs": [],
   "source": []
  },
  {
   "cell_type": "code",
   "execution_count": null,
   "id": "23d5abf5",
   "metadata": {},
   "outputs": [],
   "source": []
  },
  {
   "cell_type": "code",
   "execution_count": null,
   "id": "4a0193e1",
   "metadata": {},
   "outputs": [],
   "source": []
  },
  {
   "cell_type": "markdown",
   "id": "59c86705",
   "metadata": {},
   "source": [
    "## PREPARATION ANNOTATION ALCOOL"
   ]
  },
  {
   "cell_type": "code",
   "execution_count": 35,
   "id": "54fb7feb",
   "metadata": {},
   "outputs": [
    {
     "name": "stdout",
     "output_type": "stream",
     "text": [
      "fin\n"
     ]
    }
   ],
   "source": [
    "df,docs_medkit = extraction_finale(\"clinical_case2\",option_melange=True)\n",
    "print(\"fin\")"
   ]
  },
  {
   "cell_type": "code",
   "execution_count": 37,
   "id": "4cb7dd63",
   "metadata": {},
   "outputs": [
    {
     "name": "stdout",
     "output_type": "stream",
     "text": [
      "fin\n"
     ]
    }
   ],
   "source": [
    "df,docs_medkit = extraction_finale(\"51_fichiers_annotation_tabac\",option_melange=False)\n",
    "print(\"fin\")"
   ]
  },
  {
   "cell_type": "code",
   "execution_count": 38,
   "id": "4f840d93",
   "metadata": {},
   "outputs": [
    {
     "data": {
      "text/plain": [
       "tabagisme\n",
       "FUMEUR        24\n",
       "UNKNOWN       17\n",
       "NON-FUMEUR    10\n",
       "Name: count, dtype: int64"
      ]
     },
     "execution_count": 38,
     "metadata": {},
     "output_type": "execute_result"
    }
   ],
   "source": [
    "df[\"tabagisme\"].value_counts()"
   ]
  },
  {
   "cell_type": "markdown",
   "id": "6a2ec2a0",
   "metadata": {},
   "source": [
    "## EVALUATION: COMPARAISON ENTRE ANNOTATION BRAT ET MEDKIT"
   ]
  },
  {
   "cell_type": "code",
   "execution_count": 17,
   "id": "271a4131",
   "metadata": {},
   "outputs": [
    {
     "data": {
      "text/plain": [
       "51"
      ]
     },
     "execution_count": 17,
     "metadata": {},
     "output_type": "execute_result"
    }
   ],
   "source": [
    "# On récupère les annotations brat\n",
    "\n",
    "from medkit.io.brat import BratInputConverter\n",
    "\n",
    "# Define Input Converter \n",
    "brat_converter = BratInputConverter()\n",
    "\n",
    "path= \"/home/mhassani/Documents/Stage/env/brat-master/data/51_fichiers_annotation_alcool\"\n",
    "\n",
    "# Load brat into a list of documents\n",
    "docs_brat = brat_converter.load(dir_path = path)\n",
    "len(docs_brat)"
   ]
  },
  {
   "cell_type": "code",
   "execution_count": 18,
   "id": "0c116188",
   "metadata": {},
   "outputs": [
    {
     "data": {
      "text/plain": [
       "51"
      ]
     },
     "execution_count": 18,
     "metadata": {},
     "output_type": "execute_result"
    }
   ],
   "source": [
    "len(docs_brat)"
   ]
  },
  {
   "cell_type": "code",
   "execution_count": 19,
   "id": "a2e3b657",
   "metadata": {},
   "outputs": [],
   "source": [
    "pred_ents = convert_to_pred_ents(docs_medkit)\n",
    "pred = convert_to_pred_ents(docs_brat)"
   ]
  },
  {
   "cell_type": "code",
   "execution_count": 20,
   "id": "122ce9fa",
   "metadata": {},
   "outputs": [],
   "source": [
    "from medkit.core.text import TextDocument, Entity, Span\n",
    "from medkit.text.metrics.ner import SeqEvalEvaluator\n",
    "\n",
    "# define a evaluator using `iob2` as tagging scheme\n",
    "evaluator = SeqEvalEvaluator(tagging_scheme=\"iob2\")\n",
    "metrics = evaluator.compute(documents=docs_brat, predicted_entities=pred_ents)"
   ]
  },
  {
   "cell_type": "code",
   "execution_count": 21,
   "id": "b5e5a37b",
   "metadata": {},
   "outputs": [
    {
     "name": "stdout",
     "output_type": "stream",
     "text": [
      "overall_precision: 0.47435897435897434\n",
      "overall_recall: 0.5873015873015873\n",
      "overall_f1-score: 0.524822695035461\n",
      "overall_support: 63\n",
      "overall_acc: 0.9980194492929149\n",
      "alcool_precision: 0.43103448275862066\n",
      "alcool_recall: 0.5434782608695652\n",
      "alcool_f1-score: 0.4807692307692307\n",
      "alcool_support: 46\n",
      "situation_precision: 0.5\n",
      "situation_recall: 1.0\n",
      "situation_f1-score: 0.6666666666666666\n",
      "situation_support: 3\n",
      "tabagisme_precision: 0.6428571428571429\n",
      "tabagisme_recall: 0.6428571428571429\n",
      "tabagisme_f1-score: 0.6428571428571429\n",
      "tabagisme_support: 14\n"
     ]
    }
   ],
   "source": [
    "for metric, value in metrics.items():\n",
    "    print(f\"{metric}: {value}\")"
   ]
  },
  {
   "cell_type": "code",
   "execution_count": 66,
   "id": "ed990e14",
   "metadata": {},
   "outputs": [
    {
     "name": "stdout",
     "output_type": "stream",
     "text": [
      "63\n"
     ]
    }
   ],
   "source": [
    "from medkit.core.text import TextDocument, Entity, Span\n",
    "i=0\n",
    "# Compare the entities in the documents\n",
    "for gold_doc, predicted_doc in zip(docs_brat, docs_medkit):\n",
    "    gold_entities = gold_doc.anns\n",
    "    predicted_entities = predicted_doc.anns\n",
    "\n",
    "    for gold_entity, predicted_entity in zip(gold_entities, predicted_entities):\n",
    "        if gold_entity != predicted_entity:\n",
    "            i+=1\n",
    "print(i)"
   ]
  },
  {
   "cell_type": "code",
   "execution_count": 41,
   "id": "89c6eb15",
   "metadata": {},
   "outputs": [
    {
     "name": "stdout",
     "output_type": "stream",
     "text": [
      "overall_precision: 0.47435897435897434\n",
      "overall_recall: 0.5873015873015873\n",
      "overall_f1-score: 0.524822695035461\n",
      "overall_support: 63\n",
      "overall_acc: 0.9980194492929149\n",
      "alcool_precision: 0.43103448275862066\n",
      "alcool_recall: 0.5434782608695652\n",
      "alcool_f1-score: 0.4807692307692307\n",
      "alcool_support: 46\n",
      "situation_precision: 0.5\n",
      "situation_recall: 1.0\n",
      "situation_f1-score: 0.6666666666666666\n",
      "situation_support: 3\n",
      "tabagisme_precision: 0.6428571428571429\n",
      "tabagisme_recall: 0.6428571428571429\n",
      "tabagisme_f1-score: 0.6428571428571429\n",
      "tabagisme_support: 14\n"
     ]
    }
   ],
   "source": [
    "for metric, value in metrics.items():\n",
    "    print(f\"{metric}: {value}\")"
   ]
  },
  {
   "cell_type": "code",
   "execution_count": 29,
   "id": "00c63bc9",
   "metadata": {},
   "outputs": [
    {
     "name": "stdout",
     "output_type": "stream",
     "text": [
      "overall_precision: 0.3888888888888889\n",
      "overall_recall: 0.42424242424242425\n",
      "overall_f1-score: 0.40579710144927533\n",
      "overall_support: 66\n",
      "overall_acc: 0.9976774837032024\n",
      "alcool_precision: 0.3018867924528302\n",
      "alcool_recall: 0.32653061224489793\n",
      "alcool_f1-score: 0.31372549019607837\n",
      "alcool_support: 49\n",
      "situation_precision: 0.5\n",
      "situation_recall: 1.0\n",
      "situation_f1-score: 0.6666666666666666\n",
      "situation_support: 3\n",
      "tabagisme_precision: 0.6923076923076923\n",
      "tabagisme_recall: 0.6428571428571429\n",
      "tabagisme_f1-score: 0.6666666666666666\n",
      "tabagisme_support: 14\n"
     ]
    }
   ],
   "source": [
    "for metric, value in metrics.items():\n",
    "    print(f\"{metric}: {value}\")"
   ]
  },
  {
   "cell_type": "code",
   "execution_count": 58,
   "id": "b5c482ba",
   "metadata": {},
   "outputs": [
    {
     "name": "stdout",
     "output_type": "stream",
     "text": [
      "overall_precision: 0.5636363636363636\n",
      "overall_recall: 0.4696969696969697\n",
      "overall_f1-score: 0.5123966942148761\n",
      "overall_support: 66\n",
      "overall_acc: 0.9979125850461298\n",
      "alcool_precision: 0.5405405405405406\n",
      "alcool_recall: 0.40816326530612246\n",
      "alcool_f1-score: 0.46511627906976744\n",
      "alcool_support: 49\n",
      "situation_precision: 0.5\n",
      "situation_recall: 1.0\n",
      "situation_f1-score: 0.6666666666666666\n",
      "situation_support: 3\n",
      "tabagisme_precision: 0.6666666666666666\n",
      "tabagisme_recall: 0.5714285714285714\n",
      "tabagisme_f1-score: 0.6153846153846153\n",
      "tabagisme_support: 14\n"
     ]
    }
   ],
   "source": [
    "for metric, value in metrics.items():\n",
    "    print(f\"{metric}: {value}\")"
   ]
  },
  {
   "cell_type": "code",
   "execution_count": null,
   "id": "4caa5d30",
   "metadata": {},
   "outputs": [],
   "source": []
  },
  {
   "cell_type": "code",
   "execution_count": null,
   "id": "e8ee43e3",
   "metadata": {},
   "outputs": [],
   "source": []
  },
  {
   "cell_type": "code",
   "execution_count": null,
   "id": "ae9a975e",
   "metadata": {},
   "outputs": [],
   "source": []
  },
  {
   "cell_type": "markdown",
   "id": "0037d8c8",
   "metadata": {},
   "source": [
    "## PREPARATION ANNOTATION SITUATION FAMILIALE"
   ]
  },
  {
   "cell_type": "markdown",
   "id": "fe163b29",
   "metadata": {},
   "source": [
    "## On fait tourner le code sur ces fichiers uniquement "
   ]
  },
  {
   "cell_type": "code",
   "execution_count": 80,
   "id": "1f0590bf",
   "metadata": {},
   "outputs": [
    {
     "name": "stdout",
     "output_type": "stream",
     "text": [
      "fin\n"
     ]
    }
   ],
   "source": [
    "df,docs_medkit = extraction_finale(\"51_fichiers_annotation_situation\",option_melange=False)\n",
    "print(\"fin\")"
   ]
  },
  {
   "cell_type": "markdown",
   "id": "f821a7e6",
   "metadata": {},
   "source": [
    "## EVALUATION: COMPARAISON ENTRE ANNOTATION BRAT ET MEDKIT"
   ]
  },
  {
   "cell_type": "code",
   "execution_count": 81,
   "id": "cd816a55",
   "metadata": {},
   "outputs": [
    {
     "data": {
      "text/plain": [
       "51"
      ]
     },
     "execution_count": 81,
     "metadata": {},
     "output_type": "execute_result"
    }
   ],
   "source": [
    "# On récupère les annotations brat\n",
    "\n",
    "from medkit.io.brat import BratInputConverter\n",
    "\n",
    "# Define Input Converter \n",
    "brat_converter = BratInputConverter()\n",
    "\n",
    "path= \"/home/mhassani/Documents/Stage/env/brat-master/data/51_fichiers_annotation_situation\"\n",
    "\n",
    "# Load brat into a list of documents\n",
    "docs_brat = brat_converter.load(dir_path = path)\n",
    "len(docs_brat)"
   ]
  },
  {
   "cell_type": "code",
   "execution_count": 82,
   "id": "93faa3d5",
   "metadata": {},
   "outputs": [],
   "source": [
    "pred_ents = convert_to_pred_ents(docs_medkit)\n",
    "pred = convert_to_pred_ents(docs_brat)"
   ]
  },
  {
   "cell_type": "code",
   "execution_count": 83,
   "id": "ec4080e8",
   "metadata": {},
   "outputs": [],
   "source": [
    "from medkit.core.text import TextDocument, Entity, Span\n",
    "from medkit.text.metrics.ner import SeqEvalEvaluator\n",
    "\n",
    "# define a evaluator using `iob2` as tagging scheme\n",
    "evaluator = SeqEvalEvaluator(tagging_scheme=\"iob2\")\n",
    "metrics = evaluator.compute(documents=docs_brat, predicted_entities=pred_ents)"
   ]
  },
  {
   "cell_type": "code",
   "execution_count": 84,
   "id": "90b7213f",
   "metadata": {},
   "outputs": [
    {
     "name": "stdout",
     "output_type": "stream",
     "text": [
      "overall_precision: 0.5833333333333334\n",
      "overall_recall: 0.7\n",
      "overall_f1-score: 0.6363636363636365\n",
      "overall_support: 40\n",
      "overall_acc: 0.9988566528512219\n",
      "alcool_precision: 0.3157894736842105\n",
      "alcool_recall: 0.375\n",
      "alcool_f1-score: 0.34285714285714286\n",
      "alcool_support: 16\n",
      "situation_precision: 0.7391304347826086\n",
      "situation_recall: 0.9444444444444444\n",
      "situation_f1-score: 0.8292682926829269\n",
      "situation_support: 18\n",
      "tabagisme_precision: 0.8333333333333334\n",
      "tabagisme_recall: 0.8333333333333334\n",
      "tabagisme_f1-score: 0.8333333333333334\n",
      "tabagisme_support: 6\n"
     ]
    }
   ],
   "source": [
    "for metric, value in metrics.items():\n",
    "    print(f\"{metric}: {value}\")"
   ]
  },
  {
   "cell_type": "code",
   "execution_count": 85,
   "id": "e906b453",
   "metadata": {
    "scrolled": true
   },
   "outputs": [
    {
     "name": "stdout",
     "output_type": "stream",
     "text": [
      "1\n",
      "2\n",
      "3\n",
      "4\n",
      "5\n",
      "6\n",
      "7\n",
      "8\n",
      "9\n",
      "10\n",
      "11\n",
      "12\n",
      "13\n",
      "14\n",
      "15\n",
      "16\n",
      "17\n",
      "18\n",
      "19\n",
      "20\n",
      "21\n",
      "22\n",
      "23\n",
      "24\n",
      "25\n",
      "26\n",
      "27\n",
      "28\n",
      "29\n",
      "30\n",
      "31\n",
      "FAUX\n",
      "TextDocument(uid='14cdf40d-1a3a-11ee-ac6e-db8a74a26856', anns=TextAnnotationContainer(doc_id='14cdf40d-1a3a-11ee-ac6e-db8a74a26856', anns=[Entity(uid='14cdf408-1a3a-11ee-ac6e-db8a74a26856', label='situation', attrs=EntityAttributeContainer(ann_id='14cdf408-1a3a-11ee-ac6e-db8a74a26856', attrs=[]), metadata={'brat_id': 'T1'}, keys=set(), spans=[Span(start=16, end=21)], text='marié'), Entity(uid='14cdf409-1a3a-11ee-ac6e-db8a74a26856', label='alcool', attrs=EntityAttributeContainer(ann_id='14cdf409-1a3a-11ee-ac6e-db8a74a26856', attrs=[]), metadata={'brat_id': 'T2'}, keys=set(), spans=[Span(start=116, end=122)], text='alcool'), Entity(uid='14cdf40a-1a3a-11ee-ac6e-db8a74a26856', label='tabagisme', attrs=EntityAttributeContainer(ann_id='14cdf40a-1a3a-11ee-ac6e-db8a74a26856', attrs=[]), metadata={'brat_id': 'T3'}, keys=set(), spans=[Span(start=124, end=133)], text='tabagique'), Entity(uid='14cdf40b-1a3a-11ee-ac6e-db8a74a26856', label='tabagisme', attrs=EntityAttributeContainer(ann_id='14cdf40b-1a3a-11ee-ac6e-db8a74a26856', attrs=[]), metadata={'brat_id': 'T4'}, keys=set(), spans=[Span(start=135, end=144)], text='tabagisme'), Entity(uid='14cdf40c-1a3a-11ee-ac6e-db8a74a26856', label='alcool', attrs=EntityAttributeContainer(ann_id='14cdf40c-1a3a-11ee-ac6e-db8a74a26856', attrs=[]), metadata={'brat_id': 'T5'}, keys=set(), spans=[Span(start=182, end=188)], text='alcool')]), metadata={'path_to_text': '/home/mhassani/Documents/Stage/env/brat-master/data/51_fichiers_annotation_situation/filepdf-69-cas.txt', 'path_to_ann': '/home/mhassani/Documents/Stage/env/brat-master/data/51_fichiers_annotation_situation/filepdf-69-cas.ann'}, raw_segment=Segment(uid='718686c5-e4f1-173f-7b03-9fb74120a759', label='RAW_TEXT', attrs=AttributeContainer(ann_id='718686c5-e4f1-173f-7b03-9fb74120a759', attrs=[]), metadata={}, keys=set(), spans=[Span(start=0, end=5132)], text='Mr. S., 50 ans, marié, deux enfants, ingénieur informaticien, n’a pas d’antécédent notable en dehors d’une tendance alcoolo-tabagique (tabagisme à 70 paquets années et 100 grammes d’alcool quotidiens depuis deux ans).\\n\\nIl s’est présenté, dans un état d’ébriété, aux urgences le 27 mai 2000 pour une orchi-épididymite aiguë droite fébrile (38,5°C).\\n\\nDevant un refus de soins, le médecin urgentiste a conseillé une échographie testiculaire et ordonné un traitement de fluoroquinolones associées à des antiinflammatoires non stéroïdiens pour 4 semaines.\\n\\nLe 7 juin, Mr S. a consulté pour les mêmes symptomes associés à un syndrome douloureux scrotal. Il était apyrétique et l’examen cyto-bactériologique des urines (ECBU) était stérile avec une forte leucocyturie. L’échographie des bourses n’a pas été réalisée et on a observé un refus du traitement initial. On est arrivé à convaincre le patient d’observer très exactement les prescriptions préalables, qu’il a cette fois acceptées.\\n\\nLe 14 juin, devant la persistance de la douleur, la décision d’hospitalisation fut prise étant donné le doute persistant sur l’observance thérapeutique.\\n\\nL’échographie testiculaire a mis en évidence une macrocalcification (17 mm) au pôle supérieur du testicule droit, une réaction liquidienne modérée et une augmentation de volume de l’épididyme droit. Il n’a pas été retrouvé à l’interrogatoire d’antécédent de traumatisme testiculaire.\\n\\nLe dosage des béta HCG, LDH et alpha-foeto-protéine était normal.\\n\\nA l’examen la température était à 38°C, il y avait une douleur testiculaire accompagnée d’une augmentation de volume de la bourse droite.\\n\\nAu toucher rectal, la prostate était souple, non suspecte, évaluée à 30 grammes et le taux de l’antigène spécifique de prostate (PSA) était de 2,3 ng/ml.\\n\\nLe diagnostic d’épididymite sub-aiguë fut retenu. L’évolution a été favorable sous bi-antibiothérapie intra-veineuse probabiliste et synergique, active sur les bacilles Gram negatifs, Escherichia coli en particulier (fluoroquinolones associée à un aminosides).\\n\\nLe 27 juin, Mr S. est revu en consultation. L’examen a retrouvé un empâtement du testicule droit et de la tête de l’épididyme droite, ainsi qu’un nodule suspect au niveau du pôle inférieur de l’épididyme. Il s’agissait d’une masse solide, non transilluminable, séparée du testicule par un sillon (signe de Chevassu positif).\\n\\nL’échographie a mis en évidence une macro-calcification de 17mm du pôle supérieur du testicule droit et une augmentation de volume de la tête de l’épididyme droite (Figure 1).\\n\\nLa décision d’orchidotomie exploratrice fut alors prise, mais, Mr S. ne se présenta pas le jour de l’intervention.\\n\\nLe 24 juillet, soit deux mois après la première consultation, Mr S. s’est présenté à nouveau devant la recrudescence du syndrome douloureux. L’échographie réalisée a retrouvé une formation nodulaire à la jonction entre la tête et la queue de l’épididyme avec une vascularisation de type radiaire périphérique et l’absence de vascularisation en son centre. Il fut noté par ailleurs un épanchement intra-vaginal cloisonné et un aspect normal du testicule contro-latéral (Figure 2).\\n\\nLe 25 juillet, une exploration testiculaire a été effectuée. La tête de l’épididyme était massivement infiltrée et autorisait une épididymectomie. La pièce fut adressée pour examen anatomo-pathologique et recherche de bacille de Koch (BK). Il fut retrouvé un Mycobactérium tuberculosis multi-sensible à l’examen direct.\\n\\nTrois tubages gastriques ont été réalisés et ne mettaient pas en évidence de BK à l’examen direct. En revanche, il a été retrouvé un Mycobactérium tuberculosis après culture, ce qui a confirmé le diagnostic de tuberculose tertiaire.\\n\\nIl est à noter que notre patient était à jour de ses vaccinations et que l’intra-dermo-raction à la tuberculine était faiblement positive.\\n\\nUne radiographie pulmonaire a retrouvé des lésions multiples de tuberculose, bilatérales, prédominantes au niveau apical droit.\\n\\nDevant ce tableau de tuberculose pulmonaire active et génitale, après avis de l’infectiologue et un bilan préthérapeutique, une quadrithérapie fut instituée : éthambutol, rifampicine, isionazide et pirazinamide pour une durée totale de 2 mois et une bithérapie par rifampicine et isionazide pendant 4 mois.\\n\\nLa recherche de BK au niveau urinaire par étude de 3 prélèvements était négative et l’ ECBU est resté stérile.\\n\\nUne tomodensitométrie thoracique a confirmé la présence de lésions pulmonaires au niveau du lobe supérieur droit avec déviation de la trachée vers la droite correspondant à une tuberculose pulmonaire active.\\n\\nLes sérologies VIH étaient négatives.\\n\\nUne uro-tomodensitométrie n’a révélé aucune lésion de l’appareil urinaire. Le cadre osseux était indemne de toute lésion bacillaire.\\n\\nLa persistance des douleurs au 15ème jour post opératoire a indiqué une seconde exploration testiculaire et aboutit à une orchidectomie devant une fonte purulente du testicule droit. L’examen anatomo-pathologique a mis en évidence une nécrose ischémique étendue du testicule avec présence de lésions épithélio-gigantocellulaires, sans lésion tumorale associée.\\n'))\n",
      "Entity(uid='14cdf408-1a3a-11ee-ac6e-db8a74a26856', label='situation', attrs=EntityAttributeContainer(ann_id='14cdf408-1a3a-11ee-ac6e-db8a74a26856', attrs=[]), metadata={'brat_id': 'T1'}, keys=set(), spans=[Span(start=16, end=21)], text='marié')\n",
      "Entity(uid='14b8a29d-1a3a-11ee-ac6e-db8a74a26856', label='tabagisme', attrs=EntityAttributeContainer(ann_id='14b8a29d-1a3a-11ee-ac6e-db8a74a26856', attrs=[Attribute(label='is_negated', value=False, metadata={}, uid='14b8a29e-1a3a-11ee-ac6e-db8a74a26856'), Attribute(label='is_negated', value=True, metadata={'rule_id': 3}, uid='14b8a29f-1a3a-11ee-ac6e-db8a74a26856'), Attribute(label='is_negated', value=False, metadata={}, uid='14b8a2a0-1a3a-11ee-ac6e-db8a74a26856'), Attribute(label='other_detected', value=False, metadata={}, uid='14b8a2a1-1a3a-11ee-ac6e-db8a74a26856')]), metadata={'rule_id': 2, 'version': None}, keys=set(), spans=[Span(start=124, end=133)], text='tabagique')\n",
      "\n",
      "\n",
      "FAUX\n",
      "TextDocument(uid='14cdf40d-1a3a-11ee-ac6e-db8a74a26856', anns=TextAnnotationContainer(doc_id='14cdf40d-1a3a-11ee-ac6e-db8a74a26856', anns=[Entity(uid='14cdf408-1a3a-11ee-ac6e-db8a74a26856', label='situation', attrs=EntityAttributeContainer(ann_id='14cdf408-1a3a-11ee-ac6e-db8a74a26856', attrs=[]), metadata={'brat_id': 'T1'}, keys=set(), spans=[Span(start=16, end=21)], text='marié'), Entity(uid='14cdf409-1a3a-11ee-ac6e-db8a74a26856', label='alcool', attrs=EntityAttributeContainer(ann_id='14cdf409-1a3a-11ee-ac6e-db8a74a26856', attrs=[]), metadata={'brat_id': 'T2'}, keys=set(), spans=[Span(start=116, end=122)], text='alcool'), Entity(uid='14cdf40a-1a3a-11ee-ac6e-db8a74a26856', label='tabagisme', attrs=EntityAttributeContainer(ann_id='14cdf40a-1a3a-11ee-ac6e-db8a74a26856', attrs=[]), metadata={'brat_id': 'T3'}, keys=set(), spans=[Span(start=124, end=133)], text='tabagique'), Entity(uid='14cdf40b-1a3a-11ee-ac6e-db8a74a26856', label='tabagisme', attrs=EntityAttributeContainer(ann_id='14cdf40b-1a3a-11ee-ac6e-db8a74a26856', attrs=[]), metadata={'brat_id': 'T4'}, keys=set(), spans=[Span(start=135, end=144)], text='tabagisme'), Entity(uid='14cdf40c-1a3a-11ee-ac6e-db8a74a26856', label='alcool', attrs=EntityAttributeContainer(ann_id='14cdf40c-1a3a-11ee-ac6e-db8a74a26856', attrs=[]), metadata={'brat_id': 'T5'}, keys=set(), spans=[Span(start=182, end=188)], text='alcool')]), metadata={'path_to_text': '/home/mhassani/Documents/Stage/env/brat-master/data/51_fichiers_annotation_situation/filepdf-69-cas.txt', 'path_to_ann': '/home/mhassani/Documents/Stage/env/brat-master/data/51_fichiers_annotation_situation/filepdf-69-cas.ann'}, raw_segment=Segment(uid='718686c5-e4f1-173f-7b03-9fb74120a759', label='RAW_TEXT', attrs=AttributeContainer(ann_id='718686c5-e4f1-173f-7b03-9fb74120a759', attrs=[]), metadata={}, keys=set(), spans=[Span(start=0, end=5132)], text='Mr. S., 50 ans, marié, deux enfants, ingénieur informaticien, n’a pas d’antécédent notable en dehors d’une tendance alcoolo-tabagique (tabagisme à 70 paquets années et 100 grammes d’alcool quotidiens depuis deux ans).\\n\\nIl s’est présenté, dans un état d’ébriété, aux urgences le 27 mai 2000 pour une orchi-épididymite aiguë droite fébrile (38,5°C).\\n\\nDevant un refus de soins, le médecin urgentiste a conseillé une échographie testiculaire et ordonné un traitement de fluoroquinolones associées à des antiinflammatoires non stéroïdiens pour 4 semaines.\\n\\nLe 7 juin, Mr S. a consulté pour les mêmes symptomes associés à un syndrome douloureux scrotal. Il était apyrétique et l’examen cyto-bactériologique des urines (ECBU) était stérile avec une forte leucocyturie. L’échographie des bourses n’a pas été réalisée et on a observé un refus du traitement initial. On est arrivé à convaincre le patient d’observer très exactement les prescriptions préalables, qu’il a cette fois acceptées.\\n\\nLe 14 juin, devant la persistance de la douleur, la décision d’hospitalisation fut prise étant donné le doute persistant sur l’observance thérapeutique.\\n\\nL’échographie testiculaire a mis en évidence une macrocalcification (17 mm) au pôle supérieur du testicule droit, une réaction liquidienne modérée et une augmentation de volume de l’épididyme droit. Il n’a pas été retrouvé à l’interrogatoire d’antécédent de traumatisme testiculaire.\\n\\nLe dosage des béta HCG, LDH et alpha-foeto-protéine était normal.\\n\\nA l’examen la température était à 38°C, il y avait une douleur testiculaire accompagnée d’une augmentation de volume de la bourse droite.\\n\\nAu toucher rectal, la prostate était souple, non suspecte, évaluée à 30 grammes et le taux de l’antigène spécifique de prostate (PSA) était de 2,3 ng/ml.\\n\\nLe diagnostic d’épididymite sub-aiguë fut retenu. L’évolution a été favorable sous bi-antibiothérapie intra-veineuse probabiliste et synergique, active sur les bacilles Gram negatifs, Escherichia coli en particulier (fluoroquinolones associée à un aminosides).\\n\\nLe 27 juin, Mr S. est revu en consultation. L’examen a retrouvé un empâtement du testicule droit et de la tête de l’épididyme droite, ainsi qu’un nodule suspect au niveau du pôle inférieur de l’épididyme. Il s’agissait d’une masse solide, non transilluminable, séparée du testicule par un sillon (signe de Chevassu positif).\\n\\nL’échographie a mis en évidence une macro-calcification de 17mm du pôle supérieur du testicule droit et une augmentation de volume de la tête de l’épididyme droite (Figure 1).\\n\\nLa décision d’orchidotomie exploratrice fut alors prise, mais, Mr S. ne se présenta pas le jour de l’intervention.\\n\\nLe 24 juillet, soit deux mois après la première consultation, Mr S. s’est présenté à nouveau devant la recrudescence du syndrome douloureux. L’échographie réalisée a retrouvé une formation nodulaire à la jonction entre la tête et la queue de l’épididyme avec une vascularisation de type radiaire périphérique et l’absence de vascularisation en son centre. Il fut noté par ailleurs un épanchement intra-vaginal cloisonné et un aspect normal du testicule contro-latéral (Figure 2).\\n\\nLe 25 juillet, une exploration testiculaire a été effectuée. La tête de l’épididyme était massivement infiltrée et autorisait une épididymectomie. La pièce fut adressée pour examen anatomo-pathologique et recherche de bacille de Koch (BK). Il fut retrouvé un Mycobactérium tuberculosis multi-sensible à l’examen direct.\\n\\nTrois tubages gastriques ont été réalisés et ne mettaient pas en évidence de BK à l’examen direct. En revanche, il a été retrouvé un Mycobactérium tuberculosis après culture, ce qui a confirmé le diagnostic de tuberculose tertiaire.\\n\\nIl est à noter que notre patient était à jour de ses vaccinations et que l’intra-dermo-raction à la tuberculine était faiblement positive.\\n\\nUne radiographie pulmonaire a retrouvé des lésions multiples de tuberculose, bilatérales, prédominantes au niveau apical droit.\\n\\nDevant ce tableau de tuberculose pulmonaire active et génitale, après avis de l’infectiologue et un bilan préthérapeutique, une quadrithérapie fut instituée : éthambutol, rifampicine, isionazide et pirazinamide pour une durée totale de 2 mois et une bithérapie par rifampicine et isionazide pendant 4 mois.\\n\\nLa recherche de BK au niveau urinaire par étude de 3 prélèvements était négative et l’ ECBU est resté stérile.\\n\\nUne tomodensitométrie thoracique a confirmé la présence de lésions pulmonaires au niveau du lobe supérieur droit avec déviation de la trachée vers la droite correspondant à une tuberculose pulmonaire active.\\n\\nLes sérologies VIH étaient négatives.\\n\\nUne uro-tomodensitométrie n’a révélé aucune lésion de l’appareil urinaire. Le cadre osseux était indemne de toute lésion bacillaire.\\n\\nLa persistance des douleurs au 15ème jour post opératoire a indiqué une seconde exploration testiculaire et aboutit à une orchidectomie devant une fonte purulente du testicule droit. L’examen anatomo-pathologique a mis en évidence une nécrose ischémique étendue du testicule avec présence de lésions épithélio-gigantocellulaires, sans lésion tumorale associée.\\n'))\n",
      "Entity(uid='14cdf409-1a3a-11ee-ac6e-db8a74a26856', label='alcool', attrs=EntityAttributeContainer(ann_id='14cdf409-1a3a-11ee-ac6e-db8a74a26856', attrs=[]), metadata={'brat_id': 'T2'}, keys=set(), spans=[Span(start=116, end=122)], text='alcool')\n",
      "Entity(uid='14b8a2a2-1a3a-11ee-ac6e-db8a74a26856', label='tabagisme', attrs=EntityAttributeContainer(ann_id='14b8a2a2-1a3a-11ee-ac6e-db8a74a26856', attrs=[Attribute(label='is_negated', value=False, metadata={}, uid='14b8a2a3-1a3a-11ee-ac6e-db8a74a26856'), Attribute(label='is_negated', value=True, metadata={'rule_id': 3}, uid='14b8a2a4-1a3a-11ee-ac6e-db8a74a26856'), Attribute(label='is_negated', value=False, metadata={}, uid='14b8a2a5-1a3a-11ee-ac6e-db8a74a26856'), Attribute(label='other_detected', value=False, metadata={}, uid='14b8a2a6-1a3a-11ee-ac6e-db8a74a26856')]), metadata={'rule_id': 2, 'version': None}, keys=set(), spans=[Span(start=135, end=144)], text='tabagisme')\n",
      "\n",
      "\n",
      "FAUX\n",
      "TextDocument(uid='14cdf40d-1a3a-11ee-ac6e-db8a74a26856', anns=TextAnnotationContainer(doc_id='14cdf40d-1a3a-11ee-ac6e-db8a74a26856', anns=[Entity(uid='14cdf408-1a3a-11ee-ac6e-db8a74a26856', label='situation', attrs=EntityAttributeContainer(ann_id='14cdf408-1a3a-11ee-ac6e-db8a74a26856', attrs=[]), metadata={'brat_id': 'T1'}, keys=set(), spans=[Span(start=16, end=21)], text='marié'), Entity(uid='14cdf409-1a3a-11ee-ac6e-db8a74a26856', label='alcool', attrs=EntityAttributeContainer(ann_id='14cdf409-1a3a-11ee-ac6e-db8a74a26856', attrs=[]), metadata={'brat_id': 'T2'}, keys=set(), spans=[Span(start=116, end=122)], text='alcool'), Entity(uid='14cdf40a-1a3a-11ee-ac6e-db8a74a26856', label='tabagisme', attrs=EntityAttributeContainer(ann_id='14cdf40a-1a3a-11ee-ac6e-db8a74a26856', attrs=[]), metadata={'brat_id': 'T3'}, keys=set(), spans=[Span(start=124, end=133)], text='tabagique'), Entity(uid='14cdf40b-1a3a-11ee-ac6e-db8a74a26856', label='tabagisme', attrs=EntityAttributeContainer(ann_id='14cdf40b-1a3a-11ee-ac6e-db8a74a26856', attrs=[]), metadata={'brat_id': 'T4'}, keys=set(), spans=[Span(start=135, end=144)], text='tabagisme'), Entity(uid='14cdf40c-1a3a-11ee-ac6e-db8a74a26856', label='alcool', attrs=EntityAttributeContainer(ann_id='14cdf40c-1a3a-11ee-ac6e-db8a74a26856', attrs=[]), metadata={'brat_id': 'T5'}, keys=set(), spans=[Span(start=182, end=188)], text='alcool')]), metadata={'path_to_text': '/home/mhassani/Documents/Stage/env/brat-master/data/51_fichiers_annotation_situation/filepdf-69-cas.txt', 'path_to_ann': '/home/mhassani/Documents/Stage/env/brat-master/data/51_fichiers_annotation_situation/filepdf-69-cas.ann'}, raw_segment=Segment(uid='718686c5-e4f1-173f-7b03-9fb74120a759', label='RAW_TEXT', attrs=AttributeContainer(ann_id='718686c5-e4f1-173f-7b03-9fb74120a759', attrs=[]), metadata={}, keys=set(), spans=[Span(start=0, end=5132)], text='Mr. S., 50 ans, marié, deux enfants, ingénieur informaticien, n’a pas d’antécédent notable en dehors d’une tendance alcoolo-tabagique (tabagisme à 70 paquets années et 100 grammes d’alcool quotidiens depuis deux ans).\\n\\nIl s’est présenté, dans un état d’ébriété, aux urgences le 27 mai 2000 pour une orchi-épididymite aiguë droite fébrile (38,5°C).\\n\\nDevant un refus de soins, le médecin urgentiste a conseillé une échographie testiculaire et ordonné un traitement de fluoroquinolones associées à des antiinflammatoires non stéroïdiens pour 4 semaines.\\n\\nLe 7 juin, Mr S. a consulté pour les mêmes symptomes associés à un syndrome douloureux scrotal. Il était apyrétique et l’examen cyto-bactériologique des urines (ECBU) était stérile avec une forte leucocyturie. L’échographie des bourses n’a pas été réalisée et on a observé un refus du traitement initial. On est arrivé à convaincre le patient d’observer très exactement les prescriptions préalables, qu’il a cette fois acceptées.\\n\\nLe 14 juin, devant la persistance de la douleur, la décision d’hospitalisation fut prise étant donné le doute persistant sur l’observance thérapeutique.\\n\\nL’échographie testiculaire a mis en évidence une macrocalcification (17 mm) au pôle supérieur du testicule droit, une réaction liquidienne modérée et une augmentation de volume de l’épididyme droit. Il n’a pas été retrouvé à l’interrogatoire d’antécédent de traumatisme testiculaire.\\n\\nLe dosage des béta HCG, LDH et alpha-foeto-protéine était normal.\\n\\nA l’examen la température était à 38°C, il y avait une douleur testiculaire accompagnée d’une augmentation de volume de la bourse droite.\\n\\nAu toucher rectal, la prostate était souple, non suspecte, évaluée à 30 grammes et le taux de l’antigène spécifique de prostate (PSA) était de 2,3 ng/ml.\\n\\nLe diagnostic d’épididymite sub-aiguë fut retenu. L’évolution a été favorable sous bi-antibiothérapie intra-veineuse probabiliste et synergique, active sur les bacilles Gram negatifs, Escherichia coli en particulier (fluoroquinolones associée à un aminosides).\\n\\nLe 27 juin, Mr S. est revu en consultation. L’examen a retrouvé un empâtement du testicule droit et de la tête de l’épididyme droite, ainsi qu’un nodule suspect au niveau du pôle inférieur de l’épididyme. Il s’agissait d’une masse solide, non transilluminable, séparée du testicule par un sillon (signe de Chevassu positif).\\n\\nL’échographie a mis en évidence une macro-calcification de 17mm du pôle supérieur du testicule droit et une augmentation de volume de la tête de l’épididyme droite (Figure 1).\\n\\nLa décision d’orchidotomie exploratrice fut alors prise, mais, Mr S. ne se présenta pas le jour de l’intervention.\\n\\nLe 24 juillet, soit deux mois après la première consultation, Mr S. s’est présenté à nouveau devant la recrudescence du syndrome douloureux. L’échographie réalisée a retrouvé une formation nodulaire à la jonction entre la tête et la queue de l’épididyme avec une vascularisation de type radiaire périphérique et l’absence de vascularisation en son centre. Il fut noté par ailleurs un épanchement intra-vaginal cloisonné et un aspect normal du testicule contro-latéral (Figure 2).\\n\\nLe 25 juillet, une exploration testiculaire a été effectuée. La tête de l’épididyme était massivement infiltrée et autorisait une épididymectomie. La pièce fut adressée pour examen anatomo-pathologique et recherche de bacille de Koch (BK). Il fut retrouvé un Mycobactérium tuberculosis multi-sensible à l’examen direct.\\n\\nTrois tubages gastriques ont été réalisés et ne mettaient pas en évidence de BK à l’examen direct. En revanche, il a été retrouvé un Mycobactérium tuberculosis après culture, ce qui a confirmé le diagnostic de tuberculose tertiaire.\\n\\nIl est à noter que notre patient était à jour de ses vaccinations et que l’intra-dermo-raction à la tuberculine était faiblement positive.\\n\\nUne radiographie pulmonaire a retrouvé des lésions multiples de tuberculose, bilatérales, prédominantes au niveau apical droit.\\n\\nDevant ce tableau de tuberculose pulmonaire active et génitale, après avis de l’infectiologue et un bilan préthérapeutique, une quadrithérapie fut instituée : éthambutol, rifampicine, isionazide et pirazinamide pour une durée totale de 2 mois et une bithérapie par rifampicine et isionazide pendant 4 mois.\\n\\nLa recherche de BK au niveau urinaire par étude de 3 prélèvements était négative et l’ ECBU est resté stérile.\\n\\nUne tomodensitométrie thoracique a confirmé la présence de lésions pulmonaires au niveau du lobe supérieur droit avec déviation de la trachée vers la droite correspondant à une tuberculose pulmonaire active.\\n\\nLes sérologies VIH étaient négatives.\\n\\nUne uro-tomodensitométrie n’a révélé aucune lésion de l’appareil urinaire. Le cadre osseux était indemne de toute lésion bacillaire.\\n\\nLa persistance des douleurs au 15ème jour post opératoire a indiqué une seconde exploration testiculaire et aboutit à une orchidectomie devant une fonte purulente du testicule droit. L’examen anatomo-pathologique a mis en évidence une nécrose ischémique étendue du testicule avec présence de lésions épithélio-gigantocellulaires, sans lésion tumorale associée.\\n'))\n",
      "Entity(uid='14cdf40a-1a3a-11ee-ac6e-db8a74a26856', label='tabagisme', attrs=EntityAttributeContainer(ann_id='14cdf40a-1a3a-11ee-ac6e-db8a74a26856', attrs=[]), metadata={'brat_id': 'T3'}, keys=set(), spans=[Span(start=124, end=133)], text='tabagique')\n",
      "Entity(uid='14b8a2a7-1a3a-11ee-ac6e-db8a74a26856', label='alcool', attrs=EntityAttributeContainer(ann_id='14b8a2a7-1a3a-11ee-ac6e-db8a74a26856', attrs=[Attribute(label='is_negated', value=False, metadata={}, uid='14b8a2a8-1a3a-11ee-ac6e-db8a74a26856'), Attribute(label='is_negated', value=True, metadata={'rule_id': 3}, uid='14b8a2a9-1a3a-11ee-ac6e-db8a74a26856'), Attribute(label='is_negated', value=False, metadata={}, uid='14b8a2aa-1a3a-11ee-ac6e-db8a74a26856'), Attribute(label='other_detected', value=False, metadata={}, uid='14b8a2ab-1a3a-11ee-ac6e-db8a74a26856')]), metadata={'rule_id': 0, 'version': None}, keys=set(), spans=[Span(start=116, end=122)], text='alcool')\n",
      "\n",
      "\n",
      "FAUX\n",
      "TextDocument(uid='14cdf40d-1a3a-11ee-ac6e-db8a74a26856', anns=TextAnnotationContainer(doc_id='14cdf40d-1a3a-11ee-ac6e-db8a74a26856', anns=[Entity(uid='14cdf408-1a3a-11ee-ac6e-db8a74a26856', label='situation', attrs=EntityAttributeContainer(ann_id='14cdf408-1a3a-11ee-ac6e-db8a74a26856', attrs=[]), metadata={'brat_id': 'T1'}, keys=set(), spans=[Span(start=16, end=21)], text='marié'), Entity(uid='14cdf409-1a3a-11ee-ac6e-db8a74a26856', label='alcool', attrs=EntityAttributeContainer(ann_id='14cdf409-1a3a-11ee-ac6e-db8a74a26856', attrs=[]), metadata={'brat_id': 'T2'}, keys=set(), spans=[Span(start=116, end=122)], text='alcool'), Entity(uid='14cdf40a-1a3a-11ee-ac6e-db8a74a26856', label='tabagisme', attrs=EntityAttributeContainer(ann_id='14cdf40a-1a3a-11ee-ac6e-db8a74a26856', attrs=[]), metadata={'brat_id': 'T3'}, keys=set(), spans=[Span(start=124, end=133)], text='tabagique'), Entity(uid='14cdf40b-1a3a-11ee-ac6e-db8a74a26856', label='tabagisme', attrs=EntityAttributeContainer(ann_id='14cdf40b-1a3a-11ee-ac6e-db8a74a26856', attrs=[]), metadata={'brat_id': 'T4'}, keys=set(), spans=[Span(start=135, end=144)], text='tabagisme'), Entity(uid='14cdf40c-1a3a-11ee-ac6e-db8a74a26856', label='alcool', attrs=EntityAttributeContainer(ann_id='14cdf40c-1a3a-11ee-ac6e-db8a74a26856', attrs=[]), metadata={'brat_id': 'T5'}, keys=set(), spans=[Span(start=182, end=188)], text='alcool')]), metadata={'path_to_text': '/home/mhassani/Documents/Stage/env/brat-master/data/51_fichiers_annotation_situation/filepdf-69-cas.txt', 'path_to_ann': '/home/mhassani/Documents/Stage/env/brat-master/data/51_fichiers_annotation_situation/filepdf-69-cas.ann'}, raw_segment=Segment(uid='718686c5-e4f1-173f-7b03-9fb74120a759', label='RAW_TEXT', attrs=AttributeContainer(ann_id='718686c5-e4f1-173f-7b03-9fb74120a759', attrs=[]), metadata={}, keys=set(), spans=[Span(start=0, end=5132)], text='Mr. S., 50 ans, marié, deux enfants, ingénieur informaticien, n’a pas d’antécédent notable en dehors d’une tendance alcoolo-tabagique (tabagisme à 70 paquets années et 100 grammes d’alcool quotidiens depuis deux ans).\\n\\nIl s’est présenté, dans un état d’ébriété, aux urgences le 27 mai 2000 pour une orchi-épididymite aiguë droite fébrile (38,5°C).\\n\\nDevant un refus de soins, le médecin urgentiste a conseillé une échographie testiculaire et ordonné un traitement de fluoroquinolones associées à des antiinflammatoires non stéroïdiens pour 4 semaines.\\n\\nLe 7 juin, Mr S. a consulté pour les mêmes symptomes associés à un syndrome douloureux scrotal. Il était apyrétique et l’examen cyto-bactériologique des urines (ECBU) était stérile avec une forte leucocyturie. L’échographie des bourses n’a pas été réalisée et on a observé un refus du traitement initial. On est arrivé à convaincre le patient d’observer très exactement les prescriptions préalables, qu’il a cette fois acceptées.\\n\\nLe 14 juin, devant la persistance de la douleur, la décision d’hospitalisation fut prise étant donné le doute persistant sur l’observance thérapeutique.\\n\\nL’échographie testiculaire a mis en évidence une macrocalcification (17 mm) au pôle supérieur du testicule droit, une réaction liquidienne modérée et une augmentation de volume de l’épididyme droit. Il n’a pas été retrouvé à l’interrogatoire d’antécédent de traumatisme testiculaire.\\n\\nLe dosage des béta HCG, LDH et alpha-foeto-protéine était normal.\\n\\nA l’examen la température était à 38°C, il y avait une douleur testiculaire accompagnée d’une augmentation de volume de la bourse droite.\\n\\nAu toucher rectal, la prostate était souple, non suspecte, évaluée à 30 grammes et le taux de l’antigène spécifique de prostate (PSA) était de 2,3 ng/ml.\\n\\nLe diagnostic d’épididymite sub-aiguë fut retenu. L’évolution a été favorable sous bi-antibiothérapie intra-veineuse probabiliste et synergique, active sur les bacilles Gram negatifs, Escherichia coli en particulier (fluoroquinolones associée à un aminosides).\\n\\nLe 27 juin, Mr S. est revu en consultation. L’examen a retrouvé un empâtement du testicule droit et de la tête de l’épididyme droite, ainsi qu’un nodule suspect au niveau du pôle inférieur de l’épididyme. Il s’agissait d’une masse solide, non transilluminable, séparée du testicule par un sillon (signe de Chevassu positif).\\n\\nL’échographie a mis en évidence une macro-calcification de 17mm du pôle supérieur du testicule droit et une augmentation de volume de la tête de l’épididyme droite (Figure 1).\\n\\nLa décision d’orchidotomie exploratrice fut alors prise, mais, Mr S. ne se présenta pas le jour de l’intervention.\\n\\nLe 24 juillet, soit deux mois après la première consultation, Mr S. s’est présenté à nouveau devant la recrudescence du syndrome douloureux. L’échographie réalisée a retrouvé une formation nodulaire à la jonction entre la tête et la queue de l’épididyme avec une vascularisation de type radiaire périphérique et l’absence de vascularisation en son centre. Il fut noté par ailleurs un épanchement intra-vaginal cloisonné et un aspect normal du testicule contro-latéral (Figure 2).\\n\\nLe 25 juillet, une exploration testiculaire a été effectuée. La tête de l’épididyme était massivement infiltrée et autorisait une épididymectomie. La pièce fut adressée pour examen anatomo-pathologique et recherche de bacille de Koch (BK). Il fut retrouvé un Mycobactérium tuberculosis multi-sensible à l’examen direct.\\n\\nTrois tubages gastriques ont été réalisés et ne mettaient pas en évidence de BK à l’examen direct. En revanche, il a été retrouvé un Mycobactérium tuberculosis après culture, ce qui a confirmé le diagnostic de tuberculose tertiaire.\\n\\nIl est à noter que notre patient était à jour de ses vaccinations et que l’intra-dermo-raction à la tuberculine était faiblement positive.\\n\\nUne radiographie pulmonaire a retrouvé des lésions multiples de tuberculose, bilatérales, prédominantes au niveau apical droit.\\n\\nDevant ce tableau de tuberculose pulmonaire active et génitale, après avis de l’infectiologue et un bilan préthérapeutique, une quadrithérapie fut instituée : éthambutol, rifampicine, isionazide et pirazinamide pour une durée totale de 2 mois et une bithérapie par rifampicine et isionazide pendant 4 mois.\\n\\nLa recherche de BK au niveau urinaire par étude de 3 prélèvements était négative et l’ ECBU est resté stérile.\\n\\nUne tomodensitométrie thoracique a confirmé la présence de lésions pulmonaires au niveau du lobe supérieur droit avec déviation de la trachée vers la droite correspondant à une tuberculose pulmonaire active.\\n\\nLes sérologies VIH étaient négatives.\\n\\nUne uro-tomodensitométrie n’a révélé aucune lésion de l’appareil urinaire. Le cadre osseux était indemne de toute lésion bacillaire.\\n\\nLa persistance des douleurs au 15ème jour post opératoire a indiqué une seconde exploration testiculaire et aboutit à une orchidectomie devant une fonte purulente du testicule droit. L’examen anatomo-pathologique a mis en évidence une nécrose ischémique étendue du testicule avec présence de lésions épithélio-gigantocellulaires, sans lésion tumorale associée.\\n'))\n",
      "Entity(uid='14cdf40b-1a3a-11ee-ac6e-db8a74a26856', label='tabagisme', attrs=EntityAttributeContainer(ann_id='14cdf40b-1a3a-11ee-ac6e-db8a74a26856', attrs=[]), metadata={'brat_id': 'T4'}, keys=set(), spans=[Span(start=135, end=144)], text='tabagisme')\n",
      "Entity(uid='14b8a2ac-1a3a-11ee-ac6e-db8a74a26856', label='alcool', attrs=EntityAttributeContainer(ann_id='14b8a2ac-1a3a-11ee-ac6e-db8a74a26856', attrs=[Attribute(label='is_negated', value=False, metadata={}, uid='14b8a2ad-1a3a-11ee-ac6e-db8a74a26856'), Attribute(label='is_negated', value=False, metadata={}, uid='14b8a2ae-1a3a-11ee-ac6e-db8a74a26856'), Attribute(label='is_negated', value=False, metadata={}, uid='14b8a2af-1a3a-11ee-ac6e-db8a74a26856'), Attribute(label='other_detected', value=False, metadata={}, uid='14b8a2b0-1a3a-11ee-ac6e-db8a74a26856')]), metadata={'rule_id': 0, 'version': None}, keys=set(), spans=[Span(start=182, end=188)], text='alcool')\n",
      "\n",
      "\n",
      "FAUX\n",
      "TextDocument(uid='14cdf40d-1a3a-11ee-ac6e-db8a74a26856', anns=TextAnnotationContainer(doc_id='14cdf40d-1a3a-11ee-ac6e-db8a74a26856', anns=[Entity(uid='14cdf408-1a3a-11ee-ac6e-db8a74a26856', label='situation', attrs=EntityAttributeContainer(ann_id='14cdf408-1a3a-11ee-ac6e-db8a74a26856', attrs=[]), metadata={'brat_id': 'T1'}, keys=set(), spans=[Span(start=16, end=21)], text='marié'), Entity(uid='14cdf409-1a3a-11ee-ac6e-db8a74a26856', label='alcool', attrs=EntityAttributeContainer(ann_id='14cdf409-1a3a-11ee-ac6e-db8a74a26856', attrs=[]), metadata={'brat_id': 'T2'}, keys=set(), spans=[Span(start=116, end=122)], text='alcool'), Entity(uid='14cdf40a-1a3a-11ee-ac6e-db8a74a26856', label='tabagisme', attrs=EntityAttributeContainer(ann_id='14cdf40a-1a3a-11ee-ac6e-db8a74a26856', attrs=[]), metadata={'brat_id': 'T3'}, keys=set(), spans=[Span(start=124, end=133)], text='tabagique'), Entity(uid='14cdf40b-1a3a-11ee-ac6e-db8a74a26856', label='tabagisme', attrs=EntityAttributeContainer(ann_id='14cdf40b-1a3a-11ee-ac6e-db8a74a26856', attrs=[]), metadata={'brat_id': 'T4'}, keys=set(), spans=[Span(start=135, end=144)], text='tabagisme'), Entity(uid='14cdf40c-1a3a-11ee-ac6e-db8a74a26856', label='alcool', attrs=EntityAttributeContainer(ann_id='14cdf40c-1a3a-11ee-ac6e-db8a74a26856', attrs=[]), metadata={'brat_id': 'T5'}, keys=set(), spans=[Span(start=182, end=188)], text='alcool')]), metadata={'path_to_text': '/home/mhassani/Documents/Stage/env/brat-master/data/51_fichiers_annotation_situation/filepdf-69-cas.txt', 'path_to_ann': '/home/mhassani/Documents/Stage/env/brat-master/data/51_fichiers_annotation_situation/filepdf-69-cas.ann'}, raw_segment=Segment(uid='718686c5-e4f1-173f-7b03-9fb74120a759', label='RAW_TEXT', attrs=AttributeContainer(ann_id='718686c5-e4f1-173f-7b03-9fb74120a759', attrs=[]), metadata={}, keys=set(), spans=[Span(start=0, end=5132)], text='Mr. S., 50 ans, marié, deux enfants, ingénieur informaticien, n’a pas d’antécédent notable en dehors d’une tendance alcoolo-tabagique (tabagisme à 70 paquets années et 100 grammes d’alcool quotidiens depuis deux ans).\\n\\nIl s’est présenté, dans un état d’ébriété, aux urgences le 27 mai 2000 pour une orchi-épididymite aiguë droite fébrile (38,5°C).\\n\\nDevant un refus de soins, le médecin urgentiste a conseillé une échographie testiculaire et ordonné un traitement de fluoroquinolones associées à des antiinflammatoires non stéroïdiens pour 4 semaines.\\n\\nLe 7 juin, Mr S. a consulté pour les mêmes symptomes associés à un syndrome douloureux scrotal. Il était apyrétique et l’examen cyto-bactériologique des urines (ECBU) était stérile avec une forte leucocyturie. L’échographie des bourses n’a pas été réalisée et on a observé un refus du traitement initial. On est arrivé à convaincre le patient d’observer très exactement les prescriptions préalables, qu’il a cette fois acceptées.\\n\\nLe 14 juin, devant la persistance de la douleur, la décision d’hospitalisation fut prise étant donné le doute persistant sur l’observance thérapeutique.\\n\\nL’échographie testiculaire a mis en évidence une macrocalcification (17 mm) au pôle supérieur du testicule droit, une réaction liquidienne modérée et une augmentation de volume de l’épididyme droit. Il n’a pas été retrouvé à l’interrogatoire d’antécédent de traumatisme testiculaire.\\n\\nLe dosage des béta HCG, LDH et alpha-foeto-protéine était normal.\\n\\nA l’examen la température était à 38°C, il y avait une douleur testiculaire accompagnée d’une augmentation de volume de la bourse droite.\\n\\nAu toucher rectal, la prostate était souple, non suspecte, évaluée à 30 grammes et le taux de l’antigène spécifique de prostate (PSA) était de 2,3 ng/ml.\\n\\nLe diagnostic d’épididymite sub-aiguë fut retenu. L’évolution a été favorable sous bi-antibiothérapie intra-veineuse probabiliste et synergique, active sur les bacilles Gram negatifs, Escherichia coli en particulier (fluoroquinolones associée à un aminosides).\\n\\nLe 27 juin, Mr S. est revu en consultation. L’examen a retrouvé un empâtement du testicule droit et de la tête de l’épididyme droite, ainsi qu’un nodule suspect au niveau du pôle inférieur de l’épididyme. Il s’agissait d’une masse solide, non transilluminable, séparée du testicule par un sillon (signe de Chevassu positif).\\n\\nL’échographie a mis en évidence une macro-calcification de 17mm du pôle supérieur du testicule droit et une augmentation de volume de la tête de l’épididyme droite (Figure 1).\\n\\nLa décision d’orchidotomie exploratrice fut alors prise, mais, Mr S. ne se présenta pas le jour de l’intervention.\\n\\nLe 24 juillet, soit deux mois après la première consultation, Mr S. s’est présenté à nouveau devant la recrudescence du syndrome douloureux. L’échographie réalisée a retrouvé une formation nodulaire à la jonction entre la tête et la queue de l’épididyme avec une vascularisation de type radiaire périphérique et l’absence de vascularisation en son centre. Il fut noté par ailleurs un épanchement intra-vaginal cloisonné et un aspect normal du testicule contro-latéral (Figure 2).\\n\\nLe 25 juillet, une exploration testiculaire a été effectuée. La tête de l’épididyme était massivement infiltrée et autorisait une épididymectomie. La pièce fut adressée pour examen anatomo-pathologique et recherche de bacille de Koch (BK). Il fut retrouvé un Mycobactérium tuberculosis multi-sensible à l’examen direct.\\n\\nTrois tubages gastriques ont été réalisés et ne mettaient pas en évidence de BK à l’examen direct. En revanche, il a été retrouvé un Mycobactérium tuberculosis après culture, ce qui a confirmé le diagnostic de tuberculose tertiaire.\\n\\nIl est à noter que notre patient était à jour de ses vaccinations et que l’intra-dermo-raction à la tuberculine était faiblement positive.\\n\\nUne radiographie pulmonaire a retrouvé des lésions multiples de tuberculose, bilatérales, prédominantes au niveau apical droit.\\n\\nDevant ce tableau de tuberculose pulmonaire active et génitale, après avis de l’infectiologue et un bilan préthérapeutique, une quadrithérapie fut instituée : éthambutol, rifampicine, isionazide et pirazinamide pour une durée totale de 2 mois et une bithérapie par rifampicine et isionazide pendant 4 mois.\\n\\nLa recherche de BK au niveau urinaire par étude de 3 prélèvements était négative et l’ ECBU est resté stérile.\\n\\nUne tomodensitométrie thoracique a confirmé la présence de lésions pulmonaires au niveau du lobe supérieur droit avec déviation de la trachée vers la droite correspondant à une tuberculose pulmonaire active.\\n\\nLes sérologies VIH étaient négatives.\\n\\nUne uro-tomodensitométrie n’a révélé aucune lésion de l’appareil urinaire. Le cadre osseux était indemne de toute lésion bacillaire.\\n\\nLa persistance des douleurs au 15ème jour post opératoire a indiqué une seconde exploration testiculaire et aboutit à une orchidectomie devant une fonte purulente du testicule droit. L’examen anatomo-pathologique a mis en évidence une nécrose ischémique étendue du testicule avec présence de lésions épithélio-gigantocellulaires, sans lésion tumorale associée.\\n'))\n",
      "Entity(uid='14cdf40c-1a3a-11ee-ac6e-db8a74a26856', label='alcool', attrs=EntityAttributeContainer(ann_id='14cdf40c-1a3a-11ee-ac6e-db8a74a26856', attrs=[]), metadata={'brat_id': 'T5'}, keys=set(), spans=[Span(start=182, end=188)], text='alcool')\n",
      "Entity(uid='14b8a2b1-1a3a-11ee-ac6e-db8a74a26856', label='situation', attrs=EntityAttributeContainer(ann_id='14b8a2b1-1a3a-11ee-ac6e-db8a74a26856', attrs=[Attribute(label='is_negated', value=False, metadata={}, uid='14b8a2b2-1a3a-11ee-ac6e-db8a74a26856'), Attribute(label='is_negated', value=True, metadata={'rule_id': 3}, uid='14b8a2b3-1a3a-11ee-ac6e-db8a74a26856'), Attribute(label='is_negated', value=False, metadata={}, uid='14b8a2b4-1a3a-11ee-ac6e-db8a74a26856'), Attribute(label='other_detected', value=False, metadata={}, uid='14b8a2b5-1a3a-11ee-ac6e-db8a74a26856')]), metadata={'rule_id': 0, 'version': None}, keys=set(), spans=[Span(start=16, end=21)], text='marie')\n",
      "\n",
      "\n",
      "32\n",
      "33\n",
      "34\n",
      "35\n",
      "36\n",
      "37\n",
      "38\n",
      "39\n",
      "40\n",
      "41\n",
      "42\n",
      "43\n",
      "44\n",
      "45\n",
      "46\n",
      "47\n",
      "48\n",
      "49\n",
      "50\n",
      "FAUX\n",
      "TextDocument(uid='14cdf42f-1a3a-11ee-ac6e-db8a74a26856', anns=TextAnnotationContainer(doc_id='14cdf42f-1a3a-11ee-ac6e-db8a74a26856', anns=[Entity(uid='14cdf42d-1a3a-11ee-ac6e-db8a74a26856', label='alcool', attrs=EntityAttributeContainer(ann_id='14cdf42d-1a3a-11ee-ac6e-db8a74a26856', attrs=[]), metadata={'brat_id': 'T1'}, keys=set(), spans=[Span(start=224, end=233)], text='éthylisme'), Entity(uid='14cdf42e-1a3a-11ee-ac6e-db8a74a26856', label='tabagisme', attrs=EntityAttributeContainer(ann_id='14cdf42e-1a3a-11ee-ac6e-db8a74a26856', attrs=[]), metadata={'brat_id': 'T2'}, keys=set(), spans=[Span(start=248, end=257)], text='tabagisme')]), metadata={'path_to_text': '/home/mhassani/Documents/Stage/env/brat-master/data/51_fichiers_annotation_situation/filepdf-88-cas.txt', 'path_to_ann': '/home/mhassani/Documents/Stage/env/brat-master/data/51_fichiers_annotation_situation/filepdf-88-cas.ann'}, raw_segment=Segment(uid='94951843-592f-8a00-bf91-1f4eec909ab1', label='RAW_TEXT', attrs=AttributeContainer(ann_id='94951843-592f-8a00-bf91-1f4eec909ab1', attrs=[]), metadata={}, keys=set(), spans=[Span(start=0, end=3310)], text=\"Madame H. Anne Marie, âgée de 57 ans, a été hospitalisée pour syndrome dépressif en mai 2000.\\n\\nOn notait dans ses antécédents une cholécystectomie , une salpingite, une HTA, une allergie à la pénicilline et à l’aspirine, un éthylisme chronique, un tabagisme à 60 paquets-année.\\n\\nLa patiente présentait une hématurie microsopique depuis 3 ans. Le bilan échographique récent retrouvait une lésion tissulaire de 9 cm-5 cm développée dans le rétropéritoine gauche ne semblant pas envahir le rein gauche.\\n\\nLes cytologies urinaires ne retrouvaient pas d'élément en faveur d'une lésion urothéliale. La tomodensitométrie confirmait la présence d'une formation tissulaire de 80-51-75 mm de densité 34 UH sans injection et de 52 UH à la phase artérielle, 77 UH au temps excrétoire (Figure 1). Cette formation venait à face postérieure du rein gauche sans atteinte du parenchyme rénal adjacent, il n'existait pas d'adénopathie.\\n\\nL'IRM mettait en évidence une masse tissulaire de 8885-42 mm de diamètre encapsulée (Figures 2 et 3 ) sauf en regard de sa portion moyenne où elle apparaissait étroitement en contact avec le parenchyme rénal. Cette lésion avait un hyposignal en T2 et isosignal par rapport au parenchyme en T1. Il existait un rehaussement modéré après injection de gadolinium.\\n\\nDevant l’aspect radiologique peut habituel de cette lésion, et l’absence d’envahissement du parenchyme rénal adjacent,une biopsie avait été réalisée sous échographie. Celle-ci montrait une prolifération de cellules au noyau ovoïde ou fusiforme sans atypie ni mit ose. Leur cytoplasme était bien visible, allongé, éosinophile. Ces cellules adoptaient une architecture en faisceaux enchevêtrés, séparés par des zones de collagène plus ou moins denses. Il s'y associait quelques rares lymphocytes et mastocytes. Cela évoquait une lésion de nature mésenchymateuse de type léïomyome.\\n\\nDevant l'aspect atypique de la lésion, il était décidé de réaliser une exérèse de cette lésion associée à une néphrectomie polaire supérieure en fonction de l’aspect per-opératoire.\\n\\nDurant l'intervention la lésion était encapsulée, la dissection permettait un plan de clivage entre la lésion et le rein, sauf sur un centimètre où elle semblait dépendre de la capsule. L’examen extemporané permettait de mettre en évidence une prolifération de cellules fusiformes.\\n\\nLes suites opératoires étaient simples et la patiente sortait au 7ème jour.\\n\\nL’examen anatomopathologique de la pièce portait sur une lésion macroscopiquement bien limitée, de 80 par 55 par 80 mm. A la coupe, elle était d’aspect charnu, homogène. Histologiquement (Figure 4), elle était constituée de faisceaux enchevêtrés de fibres musculaires lisses, se disposant au sein d’un stroma fibreux ou oedémateux. Ces cellules, fusiformes présentaient un noyau ovoïde ou allongé, sans atypie ni mitose. Il n’était pas retrouvé d’adipocytes au sein de la prolifération.\\n\\nL’examen immuno-histochimique mettait en évidence un immuno-marquage positif des cellules fusiformes avec les anticorps anti-vimentine, desmine et actine, confirmant leur nature musculaire lisse. Par contre, l’immunomarquage réalisé avec l’HMB45 était négatif.\\n\\nCompte tenu de la localisation et des aspects histologiques et immuno-histochimiques, il s’agissait d’un léïomyome développé aux dépens de la capsule rénale.\\n\"))\n",
      "Entity(uid='14cdf42d-1a3a-11ee-ac6e-db8a74a26856', label='alcool', attrs=EntityAttributeContainer(ann_id='14cdf42d-1a3a-11ee-ac6e-db8a74a26856', attrs=[]), metadata={'brat_id': 'T1'}, keys=set(), spans=[Span(start=224, end=233)], text='éthylisme')\n",
      "Entity(uid='14c9aa7b-1a3a-11ee-ac6e-db8a74a26856', label='tabagisme', attrs=EntityAttributeContainer(ann_id='14c9aa7b-1a3a-11ee-ac6e-db8a74a26856', attrs=[Attribute(label='is_negated', value=False, metadata={}, uid='14c9aa7c-1a3a-11ee-ac6e-db8a74a26856'), Attribute(label='is_negated', value=False, metadata={}, uid='14c9aa7d-1a3a-11ee-ac6e-db8a74a26856'), Attribute(label='is_negated', value=False, metadata={}, uid='14c9aa7e-1a3a-11ee-ac6e-db8a74a26856'), Attribute(label='other_detected', value=False, metadata={}, uid='14c9aa7f-1a3a-11ee-ac6e-db8a74a26856')]), metadata={'rule_id': 2, 'version': None}, keys=set(), spans=[Span(start=247, end=256)], text='tabagisme')\n",
      "\n",
      "\n",
      "FAUX\n",
      "TextDocument(uid='14cdf42f-1a3a-11ee-ac6e-db8a74a26856', anns=TextAnnotationContainer(doc_id='14cdf42f-1a3a-11ee-ac6e-db8a74a26856', anns=[Entity(uid='14cdf42d-1a3a-11ee-ac6e-db8a74a26856', label='alcool', attrs=EntityAttributeContainer(ann_id='14cdf42d-1a3a-11ee-ac6e-db8a74a26856', attrs=[]), metadata={'brat_id': 'T1'}, keys=set(), spans=[Span(start=224, end=233)], text='éthylisme'), Entity(uid='14cdf42e-1a3a-11ee-ac6e-db8a74a26856', label='tabagisme', attrs=EntityAttributeContainer(ann_id='14cdf42e-1a3a-11ee-ac6e-db8a74a26856', attrs=[]), metadata={'brat_id': 'T2'}, keys=set(), spans=[Span(start=248, end=257)], text='tabagisme')]), metadata={'path_to_text': '/home/mhassani/Documents/Stage/env/brat-master/data/51_fichiers_annotation_situation/filepdf-88-cas.txt', 'path_to_ann': '/home/mhassani/Documents/Stage/env/brat-master/data/51_fichiers_annotation_situation/filepdf-88-cas.ann'}, raw_segment=Segment(uid='94951843-592f-8a00-bf91-1f4eec909ab1', label='RAW_TEXT', attrs=AttributeContainer(ann_id='94951843-592f-8a00-bf91-1f4eec909ab1', attrs=[]), metadata={}, keys=set(), spans=[Span(start=0, end=3310)], text=\"Madame H. Anne Marie, âgée de 57 ans, a été hospitalisée pour syndrome dépressif en mai 2000.\\n\\nOn notait dans ses antécédents une cholécystectomie , une salpingite, une HTA, une allergie à la pénicilline et à l’aspirine, un éthylisme chronique, un tabagisme à 60 paquets-année.\\n\\nLa patiente présentait une hématurie microsopique depuis 3 ans. Le bilan échographique récent retrouvait une lésion tissulaire de 9 cm-5 cm développée dans le rétropéritoine gauche ne semblant pas envahir le rein gauche.\\n\\nLes cytologies urinaires ne retrouvaient pas d'élément en faveur d'une lésion urothéliale. La tomodensitométrie confirmait la présence d'une formation tissulaire de 80-51-75 mm de densité 34 UH sans injection et de 52 UH à la phase artérielle, 77 UH au temps excrétoire (Figure 1). Cette formation venait à face postérieure du rein gauche sans atteinte du parenchyme rénal adjacent, il n'existait pas d'adénopathie.\\n\\nL'IRM mettait en évidence une masse tissulaire de 8885-42 mm de diamètre encapsulée (Figures 2 et 3 ) sauf en regard de sa portion moyenne où elle apparaissait étroitement en contact avec le parenchyme rénal. Cette lésion avait un hyposignal en T2 et isosignal par rapport au parenchyme en T1. Il existait un rehaussement modéré après injection de gadolinium.\\n\\nDevant l’aspect radiologique peut habituel de cette lésion, et l’absence d’envahissement du parenchyme rénal adjacent,une biopsie avait été réalisée sous échographie. Celle-ci montrait une prolifération de cellules au noyau ovoïde ou fusiforme sans atypie ni mit ose. Leur cytoplasme était bien visible, allongé, éosinophile. Ces cellules adoptaient une architecture en faisceaux enchevêtrés, séparés par des zones de collagène plus ou moins denses. Il s'y associait quelques rares lymphocytes et mastocytes. Cela évoquait une lésion de nature mésenchymateuse de type léïomyome.\\n\\nDevant l'aspect atypique de la lésion, il était décidé de réaliser une exérèse de cette lésion associée à une néphrectomie polaire supérieure en fonction de l’aspect per-opératoire.\\n\\nDurant l'intervention la lésion était encapsulée, la dissection permettait un plan de clivage entre la lésion et le rein, sauf sur un centimètre où elle semblait dépendre de la capsule. L’examen extemporané permettait de mettre en évidence une prolifération de cellules fusiformes.\\n\\nLes suites opératoires étaient simples et la patiente sortait au 7ème jour.\\n\\nL’examen anatomopathologique de la pièce portait sur une lésion macroscopiquement bien limitée, de 80 par 55 par 80 mm. A la coupe, elle était d’aspect charnu, homogène. Histologiquement (Figure 4), elle était constituée de faisceaux enchevêtrés de fibres musculaires lisses, se disposant au sein d’un stroma fibreux ou oedémateux. Ces cellules, fusiformes présentaient un noyau ovoïde ou allongé, sans atypie ni mitose. Il n’était pas retrouvé d’adipocytes au sein de la prolifération.\\n\\nL’examen immuno-histochimique mettait en évidence un immuno-marquage positif des cellules fusiformes avec les anticorps anti-vimentine, desmine et actine, confirmant leur nature musculaire lisse. Par contre, l’immunomarquage réalisé avec l’HMB45 était négatif.\\n\\nCompte tenu de la localisation et des aspects histologiques et immuno-histochimiques, il s’agissait d’un léïomyome développé aux dépens de la capsule rénale.\\n\"))\n",
      "Entity(uid='14cdf42e-1a3a-11ee-ac6e-db8a74a26856', label='tabagisme', attrs=EntityAttributeContainer(ann_id='14cdf42e-1a3a-11ee-ac6e-db8a74a26856', attrs=[]), metadata={'brat_id': 'T2'}, keys=set(), spans=[Span(start=248, end=257)], text='tabagisme')\n",
      "Entity(uid='14c9aa80-1a3a-11ee-ac6e-db8a74a26856', label='alcool', attrs=EntityAttributeContainer(ann_id='14c9aa80-1a3a-11ee-ac6e-db8a74a26856', attrs=[Attribute(label='is_negated', value=False, metadata={}, uid='14c9aa81-1a3a-11ee-ac6e-db8a74a26856'), Attribute(label='is_negated', value=False, metadata={}, uid='14c9aa82-1a3a-11ee-ac6e-db8a74a26856'), Attribute(label='is_negated', value=False, metadata={}, uid='14c9aa83-1a3a-11ee-ac6e-db8a74a26856'), Attribute(label='other_detected', value=False, metadata={}, uid='14c9aa84-1a3a-11ee-ac6e-db8a74a26856')]), metadata={'rule_id': 1, 'version': None}, keys=set(), spans=[Span(start=223, end=232)], text='ethylisme')\n",
      "\n",
      "\n",
      "51\n"
     ]
    }
   ],
   "source": [
    "from medkit.core.text import TextDocument, Entity, Span\n",
    "i=0\n",
    "label_tabac=0\n",
    "label_alcool=0\n",
    "label_situation=0\n",
    "num_fichier=1\n",
    "# Compare the entities in the documents\n",
    "for gold_doc, predicted_doc in zip(docs_brat, docs_medkit):\n",
    "    print(num_fichier)\n",
    "    num_fichier+=1\n",
    "    gold_entities = gold_doc.anns\n",
    "    predicted_entities = predicted_doc.anns\n",
    "\n",
    "    for gold_entity, predicted_entity in zip(gold_entities, predicted_entities):\n",
    "        if gold_entity != predicted_entity:\n",
    "            i+=1\n",
    "            if gold_entity.label != predicted_entity.label:\n",
    "                print(\"FAUX\")\n",
    "                print(gold_doc)\n",
    "                print(gold_entity)\n",
    "                print(predicted_entity)\n",
    "                print(\"\\n\")\n"
   ]
  },
  {
   "cell_type": "code",
   "execution_count": null,
   "id": "bc377bf4",
   "metadata": {},
   "outputs": [],
   "source": []
  }
 ],
 "metadata": {
  "kernelspec": {
   "display_name": "Python 3 (ipykernel)",
   "language": "python",
   "name": "python3"
  },
  "language_info": {
   "codemirror_mode": {
    "name": "ipython",
    "version": 3
   },
   "file_extension": ".py",
   "mimetype": "text/x-python",
   "name": "python",
   "nbconvert_exporter": "python",
   "pygments_lexer": "ipython3",
   "version": "3.10.6"
  }
 },
 "nbformat": 4,
 "nbformat_minor": 5
}
