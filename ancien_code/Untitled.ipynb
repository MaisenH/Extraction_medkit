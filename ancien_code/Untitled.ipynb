{
 "cells": [
  {
   "cell_type": "code",
   "execution_count": 17,
   "id": "b53312a0",
   "metadata": {},
   "outputs": [],
   "source": [
    "from pathlib import Path\n",
    "from pathlib import Path\n",
    "from medkit.core.text import TextDocument\n",
    "from medkit.text.segmentation import SentenceTokenizer\n",
    "from medkit.text.ner import RegexpMatcher, RegexpMatcherRule , RegexpMatcherNormalization\n",
    "from medkit.text.context import NegationDetector, NegationDetectorRule\n",
    "from medkit.text.segmentation import SyntagmaTokenizer\n",
    "from medkit.text.context import FamilyDetector\n",
    "from unidecode import unidecode\n",
    "import os\n",
    "import re\n",
    "import pandas as pd\n",
    "pd.set_option('display.max_colwidth', None)"
   ]
  },
  {
   "cell_type": "code",
   "execution_count": 45,
   "id": "31b07d92",
   "metadata": {},
   "outputs": [
    {
     "name": "stdout",
     "output_type": "stream",
     "text": [
      "T1\tstatut_tabagisme 239 248\ttabagique\n",
      "T2\tstatut_tabagisme 423 432\ttabagisme\n",
      "A1\tis_negated T2\n",
      "T3\tstatut_tabagisme 448 465\t21 paquets-années\n",
      "\n"
     ]
    }
   ],
   "source": [
    "print(Path(\"/home/mhassani/Documents/Stage/env/brat-master/data/collection/filehtml-1-cas.ann\").read_text(encoding=\"utf-8\"))"
   ]
  },
  {
   "cell_type": "code",
   "execution_count": 46,
   "id": "97110a7f",
   "metadata": {
    "collapsed": true
   },
   "outputs": [
    {
     "name": "stdout",
     "output_type": "stream",
     "text": [
      "Entity(uid='e5515921-1428-11ee-a18e-efd10f0daece', label='statut_tabagisme', attrs=<medkit.core.text.entity_attribute_container.EntityAttributeContainer object at 0x7f6bde9266b0>, metadata={'brat_id': 'T1'}, keys=set(), spans=[Span(start=239, end=248)], text='tabagique')\n",
      "Entity(uid='e5515922-1428-11ee-a18e-efd10f0daece', label='statut_tabagisme', attrs=<medkit.core.text.entity_attribute_container.EntityAttributeContainer object at 0x7f6bde924d00>, metadata={'brat_id': 'T2'}, keys=set(), spans=[Span(start=423, end=432)], text='tabagisme')\n",
      "Entity(uid='e5515923-1428-11ee-a18e-efd10f0daece', label='statut_tabagisme', attrs=<medkit.core.text.entity_attribute_container.EntityAttributeContainer object at 0x7f6bde927100>, metadata={'brat_id': 'T3'}, keys=set(), spans=[Span(start=448, end=465)], text='21 paquets-années')\n",
      "Entity(uid='e5515928-1428-11ee-a18e-efd10f0daece', label='statut_tabagisme', attrs=<medkit.core.text.entity_attribute_container.EntityAttributeContainer object at 0x7f6bde924850>, metadata={'brat_id': 'T1'}, keys=set(), spans=[Span(start=376, end=382)], text='fumait')\n",
      "Entity(uid='e551592b-1428-11ee-a18e-efd10f0daece', label='statut_tabagisme', attrs=<medkit.core.text.entity_attribute_container.EntityAttributeContainer object at 0x7f6bde895d80>, metadata={'brat_id': 'T1'}, keys=set(), spans=[Span(start=398, end=402)], text='fume')\n",
      "Entity(uid='e5515930-1428-11ee-a18e-efd10f0daece', label='statut_tabagisme', attrs=<medkit.core.text.entity_attribute_container.EntityAttributeContainer object at 0x7f6bde90a950>, metadata={'brat_id': 'T1'}, keys=set(), spans=[Span(start=597, end=601)], text='fume')\n",
      "Entity(uid='e551593a-1428-11ee-a18e-efd10f0daece', label='statut_tabagisme', attrs=<medkit.core.text.entity_attribute_container.EntityAttributeContainer object at 0x7f6bde7e5cc0>, metadata={'brat_id': 'T1'}, keys=set(), spans=[Span(start=21, end=27)], text='fumeur')\n",
      "Entity(uid='e5515943-1428-11ee-a18e-efd10f0daece', label='statut_tabagisme', attrs=<medkit.core.text.entity_attribute_container.EntityAttributeContainer object at 0x7f6bde7e5870>, metadata={'brat_id': 'T1'}, keys=set(), spans=[Span(start=210, end=219)], text='tabagique')\n",
      "Entity(uid='e5515948-1428-11ee-a18e-efd10f0daece', label='statut_tabagisme', attrs=<medkit.core.text.entity_attribute_container.EntityAttributeContainer object at 0x7f6bdea4dae0>, metadata={'brat_id': 'T1'}, keys=set(), spans=[Span(start=35, end=44)], text='tabagique')\n",
      "Entity(uid='e551594b-1428-11ee-a18e-efd10f0daece', label='statut_tabagisme', attrs=<medkit.core.text.entity_attribute_container.EntityAttributeContainer object at 0x7f6bde7b57b0>, metadata={'brat_id': 'T1'}, keys=set(), spans=[Span(start=32, end=41)], text='tabagique')\n",
      "Entity(uid='e551594d-1428-11ee-a18e-efd10f0daece', label='statut_tabagisme', attrs=<medkit.core.text.entity_attribute_container.EntityAttributeContainer object at 0x7f6bde7b6a40>, metadata={'brat_id': 'T1'}, keys=set(), spans=[Span(start=776, end=785)], text='tabagique')\n",
      "Entity(uid='e551594f-1428-11ee-a18e-efd10f0daece', label='statut_tabagisme', attrs=<medkit.core.text.entity_attribute_container.EntityAttributeContainer object at 0x7f6bde7b43a0>, metadata={'brat_id': 'T1'}, keys=set(), spans=[Span(start=28, end=37)], text='tabagique')\n",
      "Entity(uid='e5515951-1428-11ee-a18e-efd10f0daece', label='statut_tabagisme', attrs=<medkit.core.text.entity_attribute_container.EntityAttributeContainer object at 0x7f6bde7b6dd0>, metadata={'brat_id': 'T1'}, keys=set(), spans=[Span(start=375, end=381)], text='fumait')\n",
      "Entity(uid='e5515952-1428-11ee-a18e-efd10f0daece', label='statut_tabagisme', attrs=<medkit.core.text.entity_attribute_container.EntityAttributeContainer object at 0x7f6bde7b70d0>, metadata={'brat_id': 'T2'}, keys=set(), spans=[Span(start=413, end=422)], text='cigarette')\n",
      "Entity(uid='e5515955-1428-11ee-a18e-efd10f0daece', label='statut_tabagisme', attrs=<medkit.core.text.entity_attribute_container.EntityAttributeContainer object at 0x7f6bde7b7370>, metadata={'brat_id': 'T1'}, keys=set(), spans=[Span(start=223, end=232)], text='tabagisme')\n",
      "Entity(uid='e5515956-1428-11ee-a18e-efd10f0daece', label='statut_tabagisme', attrs=<medkit.core.text.entity_attribute_container.EntityAttributeContainer object at 0x7f6bde7b7ac0>, metadata={'brat_id': 'T2'}, keys=set(), spans=[Span(start=259, end=276)], text='50 paquets-années')\n",
      "Entity(uid='e5515958-1428-11ee-a18e-efd10f0daece', label='statut_tabagisme', attrs=<medkit.core.text.entity_attribute_container.EntityAttributeContainer object at 0x7f6bde7b7e50>, metadata={'brat_id': 'T1'}, keys=set(), spans=[Span(start=74, end=81)], text='fumeuse')\n",
      "Entity(uid='e551595b-1428-11ee-a18e-efd10f0daece', label='statut_tabagisme', attrs=<medkit.core.text.entity_attribute_container.EntityAttributeContainer object at 0x7f6bde7b6740>, metadata={'brat_id': 'T1'}, keys=set(), spans=[Span(start=240, end=249)], text='tabagisme')\n",
      "Entity(uid='e551595c-1428-11ee-a18e-efd10f0daece', label='statut_tabagisme', attrs=<medkit.core.text.entity_attribute_container.EntityAttributeContainer object at 0x7f6bde7b6290>, metadata={'brat_id': 'T2'}, keys=set(), spans=[Span(start=252, end=269)], text='25 paquets années')\n",
      "Entity(uid='e551595e-1428-11ee-a18e-efd10f0daece', label='statut_tabagisme', attrs=<medkit.core.text.entity_attribute_container.EntityAttributeContainer object at 0x7f6bde7b63e0>, metadata={'brat_id': 'T1'}, keys=set(), spans=[Span(start=1057, end=1062)], text='tabac')\n",
      "Entity(uid='e5515960-1428-11ee-a18e-efd10f0daece', label='statut_tabagisme', attrs=<medkit.core.text.entity_attribute_container.EntityAttributeContainer object at 0x7f6bde7fc4f0>, metadata={'brat_id': 'T1'}, keys=set(), spans=[Span(start=65, end=74)], text='tabagique')\n",
      "Entity(uid='e5515962-1428-11ee-a18e-efd10f0daece', label='statut_tabagisme', attrs=<medkit.core.text.entity_attribute_container.EntityAttributeContainer object at 0x7f6bde7fc7c0>, metadata={'brat_id': 'T1'}, keys=set(), spans=[Span(start=30, end=39)], text='tabagique')\n",
      "Entity(uid='e5515965-1428-11ee-a18e-efd10f0daece', label='statut_tabagisme', attrs=<medkit.core.text.entity_attribute_container.EntityAttributeContainer object at 0x7f6bde7fca30>, metadata={'brat_id': 'T1'}, keys=set(), spans=[Span(start=50, end=59)], text='tabagisme')\n",
      "Entity(uid='e5515967-1428-11ee-a18e-efd10f0daece', label='statut_tabagisme', attrs=<medkit.core.text.entity_attribute_container.EntityAttributeContainer object at 0x7f6bde7fcca0>, metadata={'brat_id': 'T1'}, keys=set(), spans=[Span(start=42, end=51)], text='tabagique')\n",
      "Entity(uid='e5515969-1428-11ee-a18e-efd10f0daece', label='statut_tabagisme', attrs=<medkit.core.text.entity_attribute_container.EntityAttributeContainer object at 0x7f6bde7fcf70>, metadata={'brat_id': 'T1'}, keys=set(), spans=[Span(start=80, end=89)], text='tabagique')\n",
      "Entity(uid='e551596a-1428-11ee-a18e-efd10f0daece', label='statut_tabagisme', attrs=<medkit.core.text.entity_attribute_container.EntityAttributeContainer object at 0x7f6bde7fd060>, metadata={'brat_id': 'T2'}, keys=set(), spans=[Span(start=92, end=108)], text='20 paquets année')\n",
      "Entity(uid='e551596c-1428-11ee-a18e-efd10f0daece', label='statut_tabagisme', attrs=<medkit.core.text.entity_attribute_container.EntityAttributeContainer object at 0x7f6bde7fd2d0>, metadata={'brat_id': 'T1'}, keys=set(), spans=[Span(start=337, end=346)], text='tabagique')\n",
      "Entity(uid='e551596d-1428-11ee-a18e-efd10f0daece', label='statut_tabagisme', attrs=<medkit.core.text.entity_attribute_container.EntityAttributeContainer object at 0x7f6bde7fd3c0>, metadata={'brat_id': 'T2'}, keys=set(), spans=[Span(start=357, end=375)], text='100 paquets/années')\n",
      "Entity(uid='e551596f-1428-11ee-a18e-efd10f0daece', label='statut_tabagisme', attrs=<medkit.core.text.entity_attribute_container.EntityAttributeContainer object at 0x7f6bde7fd630>, metadata={'brat_id': 'T1'}, keys=set(), spans=[Span(start=232, end=241)], text='tabagisme')\n",
      "Entity(uid='e5515970-1428-11ee-a18e-efd10f0daece', label='statut_tabagisme', attrs=<medkit.core.text.entity_attribute_container.EntityAttributeContainer object at 0x7f6bde7fd720>, metadata={'brat_id': 'T2'}, keys=set(), spans=[Span(start=256, end=273)], text='10 paquets/années')\n",
      "Entity(uid='e5515972-1428-11ee-a18e-efd10f0daece', label='statut_tabagisme', attrs=<medkit.core.text.entity_attribute_container.EntityAttributeContainer object at 0x7f6bde7fd990>, metadata={'brat_id': 'T1'}, keys=set(), spans=[Span(start=364, end=373)], text='tabagique')\n",
      "Entity(uid='e5515975-1428-11ee-a18e-efd10f0daece', label='statut_tabagisme', attrs=<medkit.core.text.entity_attribute_container.EntityAttributeContainer object at 0x7f6bde7fdc00>, metadata={'brat_id': 'T1'}, keys=set(), spans=[Span(start=29, end=38)], text='tabagique')\n",
      "Entity(uid='e5515977-1428-11ee-a18e-efd10f0daece', label='statut_tabagisme', attrs=<medkit.core.text.entity_attribute_container.EntityAttributeContainer object at 0x7f6bde7fded0>, metadata={'brat_id': 'T1'}, keys=set(), spans=[Span(start=89, end=98)], text='tabagisme')\n",
      "Entity(uid='e5515978-1428-11ee-a18e-efd10f0daece', label='statut_tabagisme', attrs=<medkit.core.text.entity_attribute_container.EntityAttributeContainer object at 0x7f6bde7fdfc0>, metadata={'brat_id': 'T2'}, keys=set(), spans=[Span(start=102, end=119)], text='50 paquets par an')\n",
      "Entity(uid='e551597a-1428-11ee-a18e-efd10f0daece', label='statut_tabagisme', attrs=<medkit.core.text.entity_attribute_container.EntityAttributeContainer object at 0x7f6bde7fe290>, metadata={'brat_id': 'T1'}, keys=set(), spans=[Span(start=124, end=133)], text='tabagique')\n",
      "Entity(uid='e551597b-1428-11ee-a18e-efd10f0daece', label='statut_tabagisme', attrs=<medkit.core.text.entity_attribute_container.EntityAttributeContainer object at 0x7f6bde7fe380>, metadata={'brat_id': 'T2'}, keys=set(), spans=[Span(start=135, end=144)], text='tabagisme')\n",
      "Entity(uid='e551597c-1428-11ee-a18e-efd10f0daece', label='statut_tabagisme', attrs=<medkit.core.text.entity_attribute_container.EntityAttributeContainer object at 0x7f6bde7fe470>, metadata={'brat_id': 'T3'}, keys=set(), spans=[Span(start=147, end=164)], text='70 paquets années')\n",
      "Entity(uid='e551597e-1428-11ee-a18e-efd10f0daece', label='statut_tabagisme', attrs=<medkit.core.text.entity_attribute_container.EntityAttributeContainer object at 0x7f6bde7fe680>, metadata={'brat_id': 'T1'}, keys=set(), spans=[Span(start=580, end=584)], text='fume')\n",
      "Entity(uid='e5515981-1428-11ee-a18e-efd10f0daece', label='statut_tabagisme', attrs=<medkit.core.text.entity_attribute_container.EntityAttributeContainer object at 0x7f6bde7fe950>, metadata={'brat_id': 'T1'}, keys=set(), spans=[Span(start=424, end=428)], text='fume')\n",
      "Entity(uid='e5515984-1428-11ee-a18e-efd10f0daece', label='statut_tabagisme', attrs=<medkit.core.text.entity_attribute_container.EntityAttributeContainer object at 0x7f6bde7fec20>, metadata={'brat_id': 'T1'}, keys=set(), spans=[Span(start=785, end=789)], text='fume')\n",
      "Entity(uid='e5515987-1428-11ee-a18e-efd10f0daece', label='statut_tabagisme', attrs=<medkit.core.text.entity_attribute_container.EntityAttributeContainer object at 0x7f6bde7feef0>, metadata={'brat_id': 'T1'}, keys=set(), spans=[Span(start=446, end=455)], text='tabagique')\n",
      "50\n"
     ]
    }
   ],
   "source": [
    "from medkit.io.brat import BratInputConverter\n",
    "\n",
    "# Define Input Converter \n",
    "brat_converter = BratInputConverter()\n",
    "\n",
    "path= \"/home/mhassani/Documents/Stage/env/brat-master/data/collection\"\n",
    "\n",
    "# Load brat into a list of documents\n",
    "docs = brat_converter.load(dir_path=path)\n",
    "i=0\n",
    "for doc in docs:\n",
    "    i+=1\n",
    "    for ann in doc.anns:\n",
    "        ann.label = 'statut_tabagisme'\n",
    "        print(ann)\n",
    "\n",
    "\n",
    "print(i)"
   ]
  },
  {
   "cell_type": "code",
   "execution_count": 49,
   "id": "8a5d377d",
   "metadata": {},
   "outputs": [
    {
     "name": "stdout",
     "output_type": "stream",
     "text": [
      "The document has 3 annotations\n",
      "Where 3 annotations have 'statut tabagique' as label\n"
     ]
    }
   ],
   "source": [
    "from medkit.io.brat import BratInputConverter\n",
    "\n",
    "# Define Input Converter \n",
    "brat_converter = BratInputConverter()\n",
    "\n",
    "path= \"/home/mhassani/Documents/Stage/env/brat-master/data/collection\"\n",
    "\n",
    "# Load brat into a list of documents\n",
    "docs = brat_converter.load(dir_path=path)\n",
    "\n",
    "\n",
    "medkit_doc = docs[0]\n",
    "\n",
    "# Explore annotations\n",
    "print(f\"The document has {len(medkit_doc.anns)} annotations\")\n",
    "entities_tabac = medkit_doc.anns.get(label=\"statut_tabagisme\")\n",
    "print(f\"Where {len(entities_tabac)} annotations have 'statut tabagique' as label\")"
   ]
  }
 ],
 "metadata": {
  "kernelspec": {
   "display_name": "Python 3 (ipykernel)",
   "language": "python",
   "name": "python3"
  },
  "language_info": {
   "codemirror_mode": {
    "name": "ipython",
    "version": 3
   },
   "file_extension": ".py",
   "mimetype": "text/x-python",
   "name": "python",
   "nbconvert_exporter": "python",
   "pygments_lexer": "ipython3",
   "version": "3.10.6"
  }
 },
 "nbformat": 4,
 "nbformat_minor": 5
}
