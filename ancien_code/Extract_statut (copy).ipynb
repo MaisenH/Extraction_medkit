{
 "cells": [
  {
   "cell_type": "code",
   "execution_count": 13,
   "id": "42ddb409",
   "metadata": {},
   "outputs": [],
   "source": [
    "from pathlib import Path\n",
    "from medkit.core.text import TextDocument\n",
    "from medkit.text.segmentation import SentenceTokenizer\n",
    "from medkit.text.ner import RegexpMatcher, RegexpMatcherRule , RegexpMatcherNormalization\n",
    "from medkit.text.context import NegationDetector, NegationDetectorRule\n",
    "from medkit.text.segmentation import SyntagmaTokenizer\n",
    "from medkit.text.context import FamilyDetector\n",
    "from unidecode import unidecode\n",
    "import os\n",
    "import re\n",
    "import pandas as pd\n",
    "pd.set_option('display.max_colwidth', None)"
   ]
  },
  {
   "cell_type": "markdown",
   "id": "e0cdd533",
   "metadata": {},
   "source": [
    "## PREPROCESSING"
   ]
  },
  {
   "cell_type": "code",
   "execution_count": 14,
   "id": "ccc64c91",
   "metadata": {},
   "outputs": [],
   "source": [
    "def preprocessing(text):\n",
    "    \n",
    "    # Convertir les caractères spéciaux spécifiques avant la conversion en ASCII\n",
    "    text = re.sub(r'n°', 'numero', text)  # Remplace \"n°\" par \"numero\"\n",
    "    text = re.sub(r'/d°', 'deg', text)  # Remplace \"/d°\" par \"deg\"\n",
    "\n",
    "    # Convertir le texte en ASCII\n",
    "    ascii_text = unidecode(text)  # Convertit les caractères Unicode en ASCII\n",
    "\n",
    "    # Normaliser les espaces en remplaçant les espaces multiples par un seul espace\n",
    "    ascii_text = re.sub(r'\\s+', ' ', ascii_text)  # Remplace plusieurs espaces par un seul espace\n",
    "    return ascii_text"
   ]
  },
  {
   "cell_type": "code",
   "execution_count": 54,
   "id": "f907aded",
   "metadata": {},
   "outputs": [],
   "source": [
    "text = \"Il n’y avait pas d’habitudes alcoolo-tabagiques. \""
   ]
  },
  {
   "cell_type": "code",
   "execution_count": 55,
   "id": "483f9f6d",
   "metadata": {},
   "outputs": [
    {
     "data": {
      "text/plain": [
       "\"Il n'y avait pas d'habitudes alcoolo-tabagiques. \""
      ]
     },
     "execution_count": 55,
     "metadata": {},
     "output_type": "execute_result"
    }
   ],
   "source": [
    "preprocessing(text)"
   ]
  },
  {
   "cell_type": "code",
   "execution_count": 56,
   "id": "c3006fb5",
   "metadata": {},
   "outputs": [],
   "source": [
    "doc = TextDocument(text=preprocessing(text))"
   ]
  },
  {
   "cell_type": "code",
   "execution_count": 57,
   "id": "aa6d17fc",
   "metadata": {},
   "outputs": [
    {
     "data": {
      "text/plain": [
       "TextDocument(uid='63fb6b22-175c-11ee-b6b9-59f8d42d3c26', anns=TextAnnotationContainer(doc_id='63fb6b22-175c-11ee-b6b9-59f8d42d3c26', anns=[]), metadata={}, raw_segment=Segment(uid='0d4fa714-25e2-c1a9-ec82-de8e369c51fd', label='RAW_TEXT', attrs=AttributeContainer(ann_id='0d4fa714-25e2-c1a9-ec82-de8e369c51fd', attrs=[]), metadata={}, keys=set(), spans=[Span(start=0, end=49)], text=\"Il n'y avait pas d'habitudes alcoolo-tabagiques. \"))"
      ]
     },
     "execution_count": 57,
     "metadata": {},
     "output_type": "execute_result"
    }
   ],
   "source": [
    "doc"
   ]
  },
  {
   "cell_type": "code",
   "execution_count": 74,
   "id": "61136e09",
   "metadata": {},
   "outputs": [],
   "source": [
    "### QUELQUES REGEX RECHERCHE ENTITES\n",
    "regexp_rules_tabac = [\n",
    "    RegexpMatcherRule(regexp=r\"\\bcigare(tte)?[s]?\\b\", label=\"tabagisme\", exclusion_regexp =\"en bout de cigare\"),\n",
    "    RegexpMatcherRule(regexp=r\"\\bfume(e)?\\b\", label=\"tabagisme\", exclusion_regexp = \"residu(s)?/s+de/s+fumee(s)?\"),\n",
    "    RegexpMatcherRule(regexp=r\"taba(c|gisme|gique)(s)?\", label=\"tabagisme\"),\n",
    "    RegexpMatcherRule(regexp=r\"fumeur|fumeuse\", label=\"tabagisme\"),\n",
    "    RegexpMatcherRule(regexp=r\"fumait\", label=\"tabagisme\"),\n",
    "\n",
    "]\n",
    "regexp_rules_alcool = [\n",
    "    RegexpMatcherRule(regexp=r\"\\balcool(o)?\", label=\"alcool\"),\n",
    "    RegexpMatcherRule(regexp=r\"\\bboit\\b\", label=\"alcool\"),\n",
    "    RegexpMatcherRule(regexp=r\"\\bbuvait\\b\", label=\"alcool\"),\n",
    "    RegexpMatcherRule(regexp=r\"\\balcoolique\\b\", label=\"alcool\"),\n",
    "    RegexpMatcherRule(regexp=r\"\\balcoolisme\\b\", label=\"alcool\"),\n",
    "]\n",
    "\n",
    "regexp_rules_familial = [\n",
    "    RegexpMatcherRule(regexp=r\"\\bmarie[e]?\\b\", label=\"situation\"),\n",
    "    RegexpMatcherRule(regexp=r\"\\bcelibataire\\b\", label=\"situation\"),\n",
    "    RegexpMatcherRule(regexp=r\"\\bdivorce[e]?\\b\", label=\"situation\"),\n",
    "    RegexpMatcherRule(regexp=r\"\\bveuf\\b\", label=\"situation\"),\n",
    "    RegexpMatcherRule(regexp=r\"\\bveuve\\b\", label=\"situation\"),\n",
    "    RegexpMatcherRule(regexp=r\"\\bpacse[e][s]?\\b\", label=\"situation\"),\n",
    "    RegexpMatcherRule(regexp=r\"\\bconcubinage\\b\", label=\"situation\"),\n",
    "    RegexpMatcherRule(regexp=r\"\\b(vit|habite)\\sseul(e)?\\b\", label=\"situation\"),\n",
    "]"
   ]
  },
  {
   "cell_type": "markdown",
   "id": "d57d5440",
   "metadata": {},
   "source": [
    "## DECOUPAGE"
   ]
  },
  {
   "cell_type": "code",
   "execution_count": 75,
   "id": "56927363",
   "metadata": {},
   "outputs": [],
   "source": [
    "sent_tokenizer = SentenceTokenizer(\n",
    "    output_label=\"sentence\",\n",
    "    punct_chars=[\".\", \"?\", \"!\"],\n",
    ")\n",
    "sentences = sent_tokenizer.run([doc.raw_segment])\n",
    "\n",
    "\n",
    "# On sépare les phrases si il y'a \"mais\" \"et\"\n",
    "synt_tokenizer = SyntagmaTokenizer(\n",
    "    output_label=\"sentence\",\n",
    "    separators=[r\"\\bmais\\b\", r\"\\bet\\b\"],\n",
    ")\n",
    "syntagmas = synt_tokenizer.run(sentences)"
   ]
  },
  {
   "cell_type": "markdown",
   "id": "7f6ef4e8",
   "metadata": {},
   "source": [
    "## Negdetector"
   ]
  },
  {
   "cell_type": "code",
   "execution_count": 76,
   "id": "bb65d75f",
   "metadata": {},
   "outputs": [],
   "source": [
    "def neg_detector_tabac():\n",
    "    neg_rules = [       \n",
    "    NegationDetectorRule(regexp=r\"\\bne\\s*(semble|consomme|prend|fume)\\s*pas\"),\n",
    "    NegationDetectorRule(regexp=r\"jamais\"),\n",
    "    NegationDetectorRule(regexp=r\"\\bni\\b\"),\n",
    "    NegationDetectorRule(regexp=r\"\\bnon\\s+\\b\"),\n",
    "    NegationDetectorRule(regexp=r\"Tabac\\s*[=:]?\\s*0\"),\n",
    "    NegationDetectorRule(regexp=r\"(pas|ni|ou)\\s+de\\s+(consommation\\s+de\\s+)?taba\"),\n",
    "    NegationDetectorRule(regexp=r\"pas\\s+d\\'intoxication\\s+tabagi\"),\n",
    "    NegationDetectorRule(regexp=r\"0 tabac\"),\n",
    "    ]\n",
    "    neg_detector = NegationDetector(output_label=\"is_negated\", rules=neg_rules)\n",
    "    return neg_detector\n",
    "\n",
    "def neg_detector_alcool():\n",
    "    neg_rules = [\n",
    "        NegationDetectorRule(regexp=r\"ne\\s*boit\\s*pas\"),\n",
    "        NegationDetectorRule(regexp=r\"\\bne/s*consomme/s*pas\\b\"),\n",
    "        NegationDetectorRule(regexp=r\"\\bni\\b\"),\n",
    "        NegationDetectorRule(regexp=r\"\\bpas\\b\"),\n",
    "        NegationDetectorRule(regexp=r\"\\becarte\\b\"),\n",
    "    ]\n",
    "    neg_detector = NegationDetector(output_label=\"is_negated\", rules=neg_rules)\n",
    "    return neg_detector\n",
    "\n",
    "def neg_detector_situation_familiale():\n",
    "    neg_rules = [\n",
    "        NegationDetectorRule(regexp=r\"\\bn'est pas\\b\"),\n",
    "        NegationDetectorRule(regexp=r\"\\bne vit pas\\b\"),\n",
    "        NegationDetectorRule(regexp=r\"\\bn'habite pas\\b\"),\n",
    "        NegationDetectorRule(regexp=r\"\\bni\\b\"),\n",
    "    ]\n",
    "    neg_detector = NegationDetector(output_label=\"is_negated\", rules=neg_rules)\n",
    "    return neg_detector"
   ]
  },
  {
   "cell_type": "markdown",
   "id": "35c4050f",
   "metadata": {},
   "source": [
    "## RECHERCHE ENTITIES"
   ]
  },
  {
   "cell_type": "code",
   "execution_count": 77,
   "id": "7bf16252",
   "metadata": {
    "scrolled": true
   },
   "outputs": [
    {
     "name": "stdout",
     "output_type": "stream",
     "text": [
      "Fin\n"
     ]
    }
   ],
   "source": [
    "\n",
    "# Création de l'objet neg detector\n",
    "neg_detector_tabac_obj = neg_detector_tabac()\n",
    "neg_detector_alcool_obj = neg_detector_alcool()\n",
    "neg_detector_statut_familial_obj = neg_detector_situation_familiale()\n",
    "\n",
    "# On applique neg detector aux syntagmas\n",
    "neg_detector_tabac_obj.run(syntagmas)\n",
    "neg_detector_alcool_obj.run(syntagmas)\n",
    "neg_detector_statut_familial_obj.run(syntagmas)\n",
    "\n",
    "# On crée l'objet family detector\n",
    "family_detector = FamilyDetector(output_label='other_detected')\n",
    "\n",
    "# CREATION OF ENTITIES\n",
    "regexp_matcher_tabac = RegexpMatcher(rules=regexp_rules_tabac, attrs_to_copy=[\"is_negated\", \"other_detected\"])\n",
    "regexp_matcher_alcool = RegexpMatcher(rules=regexp_rules_alcool, attrs_to_copy=[\"is_negated\", \"other_detected\"])\n",
    "regexp_matcher_familial = RegexpMatcher(rules=regexp_rules_familial, attrs_to_copy=[\"is_negated\", \"other_detected\"])\n",
    "\n",
    "entities_tabac = regexp_matcher_tabac.run(syntagmas)\n",
    "entities_alcool = regexp_matcher_alcool.run(syntagmas)\n",
    "entities_familial = regexp_matcher_familial.run(syntagmas)\n",
    "family_detector.run(syntagmas)\n",
    "\n",
    "for entity in entities_tabac:\n",
    "    doc.anns.add((entity))\n",
    "\n",
    "for entity in entities_alcool:\n",
    "    doc.anns.add((entity))\n",
    "\n",
    "for entity in entities_familial:\n",
    "    doc.anns.add((entity))\n",
    "print(\"Fin\")         "
   ]
  },
  {
   "cell_type": "markdown",
   "id": "59787dea",
   "metadata": {},
   "source": [
    "## EXTRACTION STATUT TABAC"
   ]
  },
  {
   "cell_type": "code",
   "execution_count": 78,
   "id": "85b89c75",
   "metadata": {},
   "outputs": [
    {
     "name": "stdout",
     "output_type": "stream",
     "text": [
      "text='alcoolo', spans=[Span(start=29, end=36)], label=alcool\n",
      "\n",
      "0\n",
      "1\n"
     ]
    },
    {
     "data": {
      "text/plain": [
       "'FUMEUR'"
      ]
     },
     "execution_count": 78,
     "metadata": {},
     "output_type": "execute_result"
    }
   ],
   "source": [
    "value_is_negated=False\n",
    "value_other_detected=False\n",
    "tabagisme = \"UNKNOWN\"\n",
    "n_oui = 0\n",
    "n_non = 0\n",
    "\n",
    "for ann in doc.anns:\n",
    "    for attr in ann.attrs:\n",
    "        if ann.label == \"tabagisme\":\n",
    "            print(f\"text={entity.text!r}, spans={entity.spans}, label={entity.label}\\n\")\n",
    "            if attr.label == \"is_negated\":\n",
    "                value_is_negated = attr.value\n",
    "            elif attr.label == \"other_detected\":\n",
    "                value_other_detected = attr.value\n",
    "\n",
    "            if value_other_detected:\n",
    "                continue\n",
    "            else:\n",
    "                if value_is_negated:\n",
    "                    n_non += 1\n",
    "                else:\n",
    "                    n_oui += 1\n",
    "            break  # On sort de la boucle après avoir récupéré la première valeur\n",
    "\n",
    "print(n_non)\n",
    "print(n_oui)\n",
    "if n_non > 0 and n_oui > 0:\n",
    "    tabagisme = \"FUMEUR\"\n",
    "elif n_non > 0:\n",
    "    tabagisme = \"NON-FUMEUR\"\n",
    "elif n_oui > 0:\n",
    "    tabagisme = \"FUMEUR\"\n",
    "tabagisme"
   ]
  },
  {
   "cell_type": "code",
   "execution_count": 63,
   "id": "e4d3fb65",
   "metadata": {},
   "outputs": [
    {
     "name": "stdout",
     "output_type": "stream",
     "text": [
      "NON-ALCOOLIQUE\n"
     ]
    }
   ],
   "source": [
    "value_is_negated=False\n",
    "value_other_detected=False\n",
    "alcool = \"UNKNOWN\"\n",
    "n_oui = 0\n",
    "n_non = 0\n",
    "value_is_negated = False\n",
    "value_other_detected = False\n",
    "count = 0  # Variable de compteur pour suivre le nombre d'occurrences\n",
    "\n",
    "for ann in doc.anns:\n",
    "    for attr in ann.attrs:\n",
    "        if ann.label == \"alcool\":\n",
    "            if attr.label == \"is_negated\":\n",
    "                value_is_negated = attr.value\n",
    "            elif attr.label == \"other_detected\":\n",
    "                value_other_detected = attr.value\n",
    "            count += 1  # Incrémenter le compteur\n",
    "\n",
    "            if count == 2:  # Vérifier si le compteur atteint 2\n",
    "                break  # Sortir de la boucle interne une fois que la deuxième valeur est récupérée\n",
    "\n",
    "    if count == 2:  # Sortir de la boucle externe une fois que la deuxième valeur est récupérée\n",
    "        if value_other_detected:\n",
    "            continue\n",
    "        else:\n",
    "            if value_is_negated:\n",
    "                n_non += 1\n",
    "            else:\n",
    "                n_oui += 1\n",
    "\n",
    "        if n_non > 0 and n_oui > 0:\n",
    "            alcool = \"ALCOOLIQUE\"\n",
    "        elif n_non > 0:\n",
    "            alcool = \"NON-ALCOOLIQUE\"\n",
    "        elif n_oui > 0:\n",
    "            alcool = \"ALCOOLIQUE\"\n",
    "        break\n",
    "\n",
    "print(alcool)"
   ]
  },
  {
   "cell_type": "code",
   "execution_count": 28,
   "id": "a4b7e20c",
   "metadata": {},
   "outputs": [
    {
     "name": "stdout",
     "output_type": "stream",
     "text": [
      "SEUL\n"
     ]
    }
   ],
   "source": [
    "value_is_negated=False\n",
    "value_other_detected=False\n",
    "## Initialisation\n",
    "situation = \"UNKNOWN\"\n",
    "count = 0  # Variable de compteur pour suivre le nombre d'occurrences\n",
    "\n",
    "# On parcourt le dico pour analyser chaque annotation trouvée\n",
    "for ann in doc.anns:\n",
    "    if ann.label == \"situation\":\n",
    "        for attr in ann.attrs:\n",
    "            if attr.label == \"is_negated\":\n",
    "                value_is_negated = attr.value\n",
    "            elif attr.label == \"other_detected\":\n",
    "                value_other_detected = attr.value\n",
    "\n",
    "        # Si l'entité trouvée ne concerne pas le patient (other_detected == True),\n",
    "        # on passe à l'annotation suivante\n",
    "        if value_other_detected == True:\n",
    "            continue\n",
    "        else:\n",
    "            situation = ann.text.lower()\n",
    "            ## NORMALISATION: Seul, pas seul ou inconnu\n",
    "            if re.search(r\"\\bmarie[e]?\\b\", situation):\n",
    "                situation = \"PAS SEUL\"\n",
    "            elif re.search(r\"\\bcelibataire\\b\", situation):\n",
    "                situation = \"SEUL\"\n",
    "            elif re.search(r\"\\bdivorce[e]?\\b\", situation):\n",
    "                situation = \"SEUL\"\n",
    "            elif re.search(r\"\\bveuf\\b\", situation):\n",
    "                situation = \"SEUL\"\n",
    "            elif re.search(r\"\\bveuve\\b\", situation):\n",
    "                situation = \"SEUL\"\n",
    "            elif re.search(r\"\\bpacse[e][s]?\\b\", situation):\n",
    "                situation = \"PAS SEUL\"\n",
    "            elif re.search(r\"\\bconcubinage\\b\", situation):\n",
    "                situation = \"PAS SEUL\"\n",
    "            elif re.search(r\"\\b(vit|habite)\\sseul(e)?\\b\", situation):\n",
    "                situation = \"SEUL\"\n",
    "\n",
    "            # Si il y a une négation\n",
    "            if value_is_negated == True:\n",
    "                # On inverse statut_marital\n",
    "                if situation == \"SEUL\":\n",
    "                    situation = \"PAS SEUL\"\n",
    "                else:\n",
    "                    situation = \"SEUL\"\n",
    "\n",
    "            if count == 3:  # Sortir de la boucle externe une fois que la troisième valeur est récupérée\n",
    "                break\n",
    "print(situation)"
   ]
  },
  {
   "cell_type": "code",
   "execution_count": 224,
   "id": "aae918ac",
   "metadata": {},
   "outputs": [],
   "source": [
    "#print(f\"Texte : {ann['text']}, Is_negated : {value_is_negated}, other_detected : {value_other_detected}\")\n"
   ]
  },
  {
   "cell_type": "code",
   "execution_count": null,
   "id": "0232c102",
   "metadata": {},
   "outputs": [],
   "source": []
  }
 ],
 "metadata": {
  "kernelspec": {
   "display_name": "Python 3 (ipykernel)",
   "language": "python",
   "name": "python3"
  },
  "language_info": {
   "codemirror_mode": {
    "name": "ipython",
    "version": 3
   },
   "file_extension": ".py",
   "mimetype": "text/x-python",
   "name": "python",
   "nbconvert_exporter": "python",
   "pygments_lexer": "ipython3",
   "version": "3.10.6"
  }
 },
 "nbformat": 4,
 "nbformat_minor": 5
}
